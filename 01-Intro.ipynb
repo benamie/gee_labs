{
 "cells": [
  {
   "cell_type": "markdown",
   "metadata": {
    "cell_id": "2e741feb1a484f3d8060c1f15fc9fb95",
    "deepnote_cell_height": 890,
    "deepnote_cell_type": "markdown",
    "owner_user_id": "658b2a16-1456-4994-b7e8-11257a829f64",
    "tags": []
   },
   "source": [
    "# Google Earth Engine Introduction\n",
    "## Why Google Earth Engine?\n",
    "Research in Remote Sensing has evolved drastically over the past few decades.\n",
    "\n",
    "In the earliest years of remote sensing analysis, only a handful of governments had the capability to deploy satellites and reliably process the imagery, and their use was largely limited to the military and intelligence communities. In the late 1950s, the US and Europe established the National Aeronautics and Space Administration (NASA) and the origins of the European Space Agency (ESA) to support a civilian space program as well as space and aeronautics research. Even then, data access was unwieldy and costly - even if a researcher had identified the data they needed, they would have to go through the highly complicated and time-intensive steps of downloading the data onto a mainframe computer with sufficient storage and processing capability to perform a series of pre-processing steps (e.g. orthorectification and atmospheric corrections), all before they could start analysis.\n",
    "\n",
    "Enter Google Earth Engine (GEE). As part of Google's quest to make the world's information universally accessible and useful, Google Earth Engine emerged in 2010 to aid in organizing and simplifying geospatial data in a way that supports an end-to-end solution. This is a valuable tool that simplifies many of the historical problems that Remote Sensing researchers have struggled with. Google has collected and maintains petabytes of imagery from both public and private sources, including well-known platforms such as Landsat, MODIS, and Sentinel. Additionally, GEE allows users to process the data and conduct sophisticated analysis built upon Google's compute power (even allowing advanced Machine Learning using TensorFlow Processing Units). They geo-rectify the imagery and provide pre-built algorithms that facilitate analysis. In case you need to build your own algorithms, Google Earth Engine supports both JavaScript and Python, which in turn extends the opportunities for processing data and displaying results using your preferred tools. The user can even import their own data and work with it within GEE. Finally, the user fully owns the analysis and algorithms written within GEE, providing fair and open use.\n",
    "\n",
    "As researchers involved in Remote Sensing, Google Earth Engine provides an invaluable toolset that you can use throughout your career.\n",
    "\n",
    "#### License and Attribution\n",
    "\n",
    "This work is licensed under a Creative Commons Attribution 4.0 International License. The foundation of these lab exercises were generously shared with us by Nicholas Clinton (Google) and Dr. David Saah (University of San Francisco, Geospatial Analysis Lab). We thank them for this great public good and take responsibility for any errors that arose from our adaptation.\n",
    "\n",
    "Elinor Ben-Ami and Ozzy Campos have extended and customized these labs and exercise and incorporated them into the course taught at Virginia Tech, 'Remote Sensing for Social Science'.\n",
    "\n",
    "We will also like to mention the extensive use of the `geemap` package, developed by Qiusheng Wu. \n",
    "\n",
    "* Wu, Q., (2020). `geemap`: A Python package for interactive mapping with Google Earth Engine. The Journal of Open Source Software, 5(51), 2305. https://doi.org/10.21105/joss.02305"
   ]
  }
 ],
 "metadata": {
  "deepnote": {},
  "deepnote_execution_queue": [],
  "deepnote_notebook_id": "10294d2c-dcd7-443c-9648-1c265c7f6481",
  "kernelspec": {
   "display_name": "geo",
   "language": "python",
   "name": "geo"
  },
  "language_info": {
   "codemirror_mode": {
    "name": "ipython",
    "version": 3
   },
   "file_extension": ".py",
   "mimetype": "text/x-python",
   "name": "python",
   "nbconvert_exporter": "python",
   "pygments_lexer": "ipython3",
   "version": "3.7.10"
  }
 },
 "nbformat": 4,
 "nbformat_minor": 4
}
