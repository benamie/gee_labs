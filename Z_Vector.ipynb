{
 "cells": [
  {
   "cell_type": "markdown",
   "metadata": {},
   "source": [
    "# Working with Vector Data\n",
    "\n",
    "Working with Vector data is an essential component of GIS. In the original flow chart from Lab 01, we are will normally have an 'area of interest' that we want to better understand. For instance, we may want to find a vegetation index within the country of Columbia. To do that, we can work with a polygon that denotes the border of Columbia, and then combine it with GEE to summarize the index.\n",
    "\n",
    "Working with vector data is quite expansive and outside of the scope of this course. While GEE is excellent at processing large amounts of raster data, we will introduce a few other tools that are more focused on vector operations.\n",
    "\n",
    "![Building a use Case Flowchart](https://loz-webimages.s3.amazonaws.com/GEE_Labs/03_01.png)"
   ]
  },
  {
   "cell_type": "code",
   "execution_count": 8,
   "metadata": {},
   "outputs": [],
   "source": [
    "#!pip install geemap\n",
    "import ee, geemap\n",
    "#ee.Authenticate()\n",
    "def build_map(lat, lon, zoom, vizParams, image, name):\n",
    "    map = geemap.Map(center = [lat, lon], zoom = zoom)\n",
    "    map.addLayer(image, vizParams, name)\n",
    "    return map\n",
    "\n",
    "# Initialize the Earth Engine module.\n",
    "ee.Initialize()"
   ]
  },
  {
   "cell_type": "markdown",
   "metadata": {},
   "source": [
    "### Geospatial Data\n",
    "\n",
    "Geospatial Analysis is a pretty vast topic, so we are only going to cover the basics and then provide a few resources for you to follow along with. \n",
    "\n",
    "As mentioned earlier, a basic definition of vector data is points, lines, and polygons associated with attribute data. A few examples might be:\n",
    "\n",
    "1. Polygon that denotes the boundary of France\n",
    "2. Line that denotes the Mississippi River, along with information about river width.\n",
    "3. Points that denote the center of all the capitals of South America, along with population\n",
    "\n",
    "Each of the different vector types have different operations associated with them.\n",
    "1. Is the city of Richmond (point) within the state of North Carolina (polygon)?\n",
    "2. Does Interstate-77 cross the Mississippi river (two lines)? \n",
    "3. What is the overall area of France (polygon)?\n",
    "\n",
    "[Data Carpentry](https://datacarpentry.org/organization-geospatial/02-intro-vector-data/) provides some good information that will help provide some good examples. "
   ]
  },
  {
   "cell_type": "markdown",
   "metadata": {},
   "source": [
    "### Vector Data Types\n",
    "There are a surpringly large number of vector datatypes. You've likely heard of `shapefiles`, which originated as an ESRI (Makers of Arc-GIS) propritary format of transferring data, but was then open-sourced and is the most prominent vector data type. However, there's some downsides.\n",
    "1. At a minimum, it's four separate files (projection, attributes, metadata, geometries)\n",
    "2. A shapefile can only be one type (cannot mix and match points and polygons)\n",
    "3. Designed in the 1980s\n",
    "4. 2GB size limitation\n",
    "\n",
    "In recent years, there's other spatial data types to address these limitations. A few newer types:\n",
    "1. geojson\n",
    "2. geopkg\n",
    "3. postgis\n",
    "4. feather/pyarrow\n",
    "5. parquet\n",
    "\n",
    "Bottom line - be able to recognize spatial datatypes and know some of the limitations of shapefiles."
   ]
  },
  {
   "cell_type": "markdown",
   "metadata": {},
   "source": [
    "### Geopandas\n",
    "In Python, there's a cascade of geospatial packages that build upon each other - the most common and prevalent package for working with vector data is called `geopandas`. Again, getting very comfortable with `geopandas` will take a few weeks but it is an essential tool for working with geospatial packages. Additionally, it has data that you can reference immediately, without having to go out and find your own data. \n",
    "\n",
    "Geopandas supports all the spatial data types above, but the biggest benefit is that you can then interact with the spatial data frame using Pandas, which is a staple library in data. Whichever type of vector data you read in, whether it is a shapefile, a geojson or a parquet file, when you read it in it becomes a `geopandas` dataframe. Let's see an example."
   ]
  },
  {
   "cell_type": "code",
   "execution_count": 19,
   "metadata": {},
   "outputs": [
    {
     "name": "stdout",
     "output_type": "stream",
     "text": [
      "['naturalearth_cities', 'naturalearth_lowres', 'nybb']\n"
     ]
    }
   ],
   "source": [
    "import geopandas as gpd\n",
    "# Available datasets in geopandas\n",
    "print(gpd.datasets.available)"
   ]
  },
  {
   "cell_type": "code",
   "execution_count": null,
   "metadata": {},
   "outputs": [],
   "source": [
    "# Country boundaries within geopandas \n",
    "world_filepath = gpd.datasets.get_path('naturalearth_lowres')"
   ]
  },
  {
   "cell_type": "code",
   "execution_count": 10,
   "metadata": {},
   "outputs": [
    {
     "data": {
      "text/html": [
       "<div>\n",
       "<style scoped>\n",
       "    .dataframe tbody tr th:only-of-type {\n",
       "        vertical-align: middle;\n",
       "    }\n",
       "\n",
       "    .dataframe tbody tr th {\n",
       "        vertical-align: top;\n",
       "    }\n",
       "\n",
       "    .dataframe thead th {\n",
       "        text-align: right;\n",
       "    }\n",
       "</style>\n",
       "<table border=\"1\" class=\"dataframe\">\n",
       "  <thead>\n",
       "    <tr style=\"text-align: right;\">\n",
       "      <th></th>\n",
       "      <th>pop_est</th>\n",
       "      <th>continent</th>\n",
       "      <th>name</th>\n",
       "      <th>iso_a3</th>\n",
       "      <th>gdp_md_est</th>\n",
       "      <th>geometry</th>\n",
       "    </tr>\n",
       "  </thead>\n",
       "  <tbody>\n",
       "    <tr>\n",
       "      <th>0</th>\n",
       "      <td>920938</td>\n",
       "      <td>Oceania</td>\n",
       "      <td>Fiji</td>\n",
       "      <td>FJI</td>\n",
       "      <td>8374.0</td>\n",
       "      <td>MULTIPOLYGON (((180.00000 -16.06713, 180.00000...</td>\n",
       "    </tr>\n",
       "    <tr>\n",
       "      <th>1</th>\n",
       "      <td>53950935</td>\n",
       "      <td>Africa</td>\n",
       "      <td>Tanzania</td>\n",
       "      <td>TZA</td>\n",
       "      <td>150600.0</td>\n",
       "      <td>POLYGON ((33.90371 -0.95000, 34.07262 -1.05982...</td>\n",
       "    </tr>\n",
       "    <tr>\n",
       "      <th>2</th>\n",
       "      <td>603253</td>\n",
       "      <td>Africa</td>\n",
       "      <td>W. Sahara</td>\n",
       "      <td>ESH</td>\n",
       "      <td>906.5</td>\n",
       "      <td>POLYGON ((-8.66559 27.65643, -8.66512 27.58948...</td>\n",
       "    </tr>\n",
       "    <tr>\n",
       "      <th>3</th>\n",
       "      <td>35623680</td>\n",
       "      <td>North America</td>\n",
       "      <td>Canada</td>\n",
       "      <td>CAN</td>\n",
       "      <td>1674000.0</td>\n",
       "      <td>MULTIPOLYGON (((-122.84000 49.00000, -122.9742...</td>\n",
       "    </tr>\n",
       "    <tr>\n",
       "      <th>4</th>\n",
       "      <td>326625791</td>\n",
       "      <td>North America</td>\n",
       "      <td>United States of America</td>\n",
       "      <td>USA</td>\n",
       "      <td>18560000.0</td>\n",
       "      <td>MULTIPOLYGON (((-122.84000 49.00000, -120.0000...</td>\n",
       "    </tr>\n",
       "  </tbody>\n",
       "</table>\n",
       "</div>"
      ],
      "text/plain": [
       "     pop_est      continent                      name iso_a3  gdp_md_est  \\\n",
       "0     920938        Oceania                      Fiji    FJI      8374.0   \n",
       "1   53950935         Africa                  Tanzania    TZA    150600.0   \n",
       "2     603253         Africa                 W. Sahara    ESH       906.5   \n",
       "3   35623680  North America                    Canada    CAN   1674000.0   \n",
       "4  326625791  North America  United States of America    USA  18560000.0   \n",
       "\n",
       "                                            geometry  \n",
       "0  MULTIPOLYGON (((180.00000 -16.06713, 180.00000...  \n",
       "1  POLYGON ((33.90371 -0.95000, 34.07262 -1.05982...  \n",
       "2  POLYGON ((-8.66559 27.65643, -8.66512 27.58948...  \n",
       "3  MULTIPOLYGON (((-122.84000 49.00000, -122.9742...  \n",
       "4  MULTIPOLYGON (((-122.84000 49.00000, -120.0000...  "
      ]
     },
     "execution_count": 10,
     "metadata": {},
     "output_type": "execute_result"
    }
   ],
   "source": [
    "world = gpd.read_file(world_filepath)\n",
    "world.head()"
   ]
  },
  {
   "cell_type": "markdown",
   "metadata": {},
   "source": [
    "### Filter\n",
    "We can filter it down based on the attribute data in the dataset. Under continent, we can filter to only include the countries within Africa. That reduces our dataset, and then we can continue to filter it down to the country of Niger. Let's plot the country outline to make sure it works correctly. "
   ]
  },
  {
   "cell_type": "code",
   "execution_count": 11,
   "metadata": {},
   "outputs": [
    {
     "data": {
      "text/html": [
       "<div>\n",
       "<style scoped>\n",
       "    .dataframe tbody tr th:only-of-type {\n",
       "        vertical-align: middle;\n",
       "    }\n",
       "\n",
       "    .dataframe tbody tr th {\n",
       "        vertical-align: top;\n",
       "    }\n",
       "\n",
       "    .dataframe thead th {\n",
       "        text-align: right;\n",
       "    }\n",
       "</style>\n",
       "<table border=\"1\" class=\"dataframe\">\n",
       "  <thead>\n",
       "    <tr style=\"text-align: right;\">\n",
       "      <th></th>\n",
       "      <th>pop_est</th>\n",
       "      <th>continent</th>\n",
       "      <th>name</th>\n",
       "      <th>iso_a3</th>\n",
       "      <th>gdp_md_est</th>\n",
       "      <th>geometry</th>\n",
       "    </tr>\n",
       "  </thead>\n",
       "  <tbody>\n",
       "    <tr>\n",
       "      <th>1</th>\n",
       "      <td>53950935</td>\n",
       "      <td>Africa</td>\n",
       "      <td>Tanzania</td>\n",
       "      <td>TZA</td>\n",
       "      <td>150600.0</td>\n",
       "      <td>POLYGON ((33.90371 -0.95000, 34.07262 -1.05982...</td>\n",
       "    </tr>\n",
       "    <tr>\n",
       "      <th>2</th>\n",
       "      <td>603253</td>\n",
       "      <td>Africa</td>\n",
       "      <td>W. Sahara</td>\n",
       "      <td>ESH</td>\n",
       "      <td>906.5</td>\n",
       "      <td>POLYGON ((-8.66559 27.65643, -8.66512 27.58948...</td>\n",
       "    </tr>\n",
       "    <tr>\n",
       "      <th>11</th>\n",
       "      <td>83301151</td>\n",
       "      <td>Africa</td>\n",
       "      <td>Dem. Rep. Congo</td>\n",
       "      <td>COD</td>\n",
       "      <td>66010.0</td>\n",
       "      <td>POLYGON ((29.34000 -4.49998, 29.51999 -5.41998...</td>\n",
       "    </tr>\n",
       "    <tr>\n",
       "      <th>12</th>\n",
       "      <td>7531386</td>\n",
       "      <td>Africa</td>\n",
       "      <td>Somalia</td>\n",
       "      <td>SOM</td>\n",
       "      <td>4719.0</td>\n",
       "      <td>POLYGON ((41.58513 -1.68325, 40.99300 -0.85829...</td>\n",
       "    </tr>\n",
       "    <tr>\n",
       "      <th>13</th>\n",
       "      <td>47615739</td>\n",
       "      <td>Africa</td>\n",
       "      <td>Kenya</td>\n",
       "      <td>KEN</td>\n",
       "      <td>152700.0</td>\n",
       "      <td>POLYGON ((39.20222 -4.67677, 37.76690 -3.67712...</td>\n",
       "    </tr>\n",
       "  </tbody>\n",
       "</table>\n",
       "</div>"
      ],
      "text/plain": [
       "     pop_est continent             name iso_a3  gdp_md_est  \\\n",
       "1   53950935    Africa         Tanzania    TZA    150600.0   \n",
       "2     603253    Africa        W. Sahara    ESH       906.5   \n",
       "11  83301151    Africa  Dem. Rep. Congo    COD     66010.0   \n",
       "12   7531386    Africa          Somalia    SOM      4719.0   \n",
       "13  47615739    Africa            Kenya    KEN    152700.0   \n",
       "\n",
       "                                             geometry  \n",
       "1   POLYGON ((33.90371 -0.95000, 34.07262 -1.05982...  \n",
       "2   POLYGON ((-8.66559 27.65643, -8.66512 27.58948...  \n",
       "11  POLYGON ((29.34000 -4.49998, 29.51999 -5.41998...  \n",
       "12  POLYGON ((41.58513 -1.68325, 40.99300 -0.85829...  \n",
       "13  POLYGON ((39.20222 -4.67677, 37.76690 -3.67712...  "
      ]
     },
     "execution_count": 11,
     "metadata": {},
     "output_type": "execute_result"
    }
   ],
   "source": [
    "df_africa = world.loc[world.continent == 'Africa']\n",
    "df_africa.head()"
   ]
  },
  {
   "cell_type": "code",
   "execution_count": 12,
   "metadata": {},
   "outputs": [
    {
     "data": {
      "text/html": [
       "<div>\n",
       "<style scoped>\n",
       "    .dataframe tbody tr th:only-of-type {\n",
       "        vertical-align: middle;\n",
       "    }\n",
       "\n",
       "    .dataframe tbody tr th {\n",
       "        vertical-align: top;\n",
       "    }\n",
       "\n",
       "    .dataframe thead th {\n",
       "        text-align: right;\n",
       "    }\n",
       "</style>\n",
       "<table border=\"1\" class=\"dataframe\">\n",
       "  <thead>\n",
       "    <tr style=\"text-align: right;\">\n",
       "      <th></th>\n",
       "      <th>pop_est</th>\n",
       "      <th>continent</th>\n",
       "      <th>name</th>\n",
       "      <th>iso_a3</th>\n",
       "      <th>gdp_md_est</th>\n",
       "      <th>geometry</th>\n",
       "    </tr>\n",
       "  </thead>\n",
       "  <tbody>\n",
       "    <tr>\n",
       "      <th>55</th>\n",
       "      <td>19245344</td>\n",
       "      <td>Africa</td>\n",
       "      <td>Niger</td>\n",
       "      <td>NER</td>\n",
       "      <td>20150.0</td>\n",
       "      <td>POLYGON ((14.85130 22.86295, 15.09689 21.30852...</td>\n",
       "    </tr>\n",
       "  </tbody>\n",
       "</table>\n",
       "</div>"
      ],
      "text/plain": [
       "     pop_est continent   name iso_a3  gdp_md_est  \\\n",
       "55  19245344    Africa  Niger    NER     20150.0   \n",
       "\n",
       "                                             geometry  \n",
       "55  POLYGON ((14.85130 22.86295, 15.09689 21.30852...  "
      ]
     },
     "execution_count": 12,
     "metadata": {},
     "output_type": "execute_result"
    }
   ],
   "source": [
    "niger = df_africa.loc[df_africa.name == 'Niger']\n",
    "niger.head()"
   ]
  },
  {
   "cell_type": "code",
   "execution_count": 13,
   "metadata": {},
   "outputs": [
    {
     "data": {
      "text/plain": [
       "<AxesSubplot:>"
      ]
     },
     "execution_count": 13,
     "metadata": {},
     "output_type": "execute_result"
    },
    {
     "data": {
      "image/png": "[encoded data removed]",
      "text/plain": [
       "<Figure size 432x288 with 1 Axes>"
      ]
     },
     "metadata": {
      "needs_background": "light"
     },
     "output_type": "display_data"
    }
   ],
   "source": [
    "niger.plot()"
   ]
  },
  {
   "cell_type": "markdown",
   "metadata": {},
   "source": [
    "### Convert to Earth Engine\n",
    "\n",
    "We have a polygon that contains the boundary of Niger that is in a `geopandas` format. We now have to convert it into an Earth Engine feature so that GEE can interact with it. The easiest way to do this is using the `geemap` package. Additionally, we can plot it on the map (using `geemap`)to ensure the data looks correct. "
   ]
  },
  {
   "cell_type": "code",
   "execution_count": 14,
   "metadata": {},
   "outputs": [],
   "source": [
    "gee_feature = geemap.geopandas_to_ee(niger)"
   ]
  },
  {
   "cell_type": "code",
   "execution_count": 15,
   "metadata": {},
   "outputs": [
    {
     "data": {
      "application/vnd.jupyter.widget-view+json": {
       "model_id": "ad9b5c6fb6304def9d58fee26b1dddf7",
       "version_major": 2,
       "version_minor": 0
      },
      "text/plain": [
       "Map(center=[20, 0], controls=(WidgetControl(options=['position', 'transparent_bg'], widget=HBox(children=(Togg…"
      ]
     },
     "metadata": {},
     "output_type": "display_data"
    }
   ],
   "source": [
    "Map = geemap.Map()\n",
    "Map.addLayer(gee_feature, {}, \"geopandas to ee example\")\n",
    "Map"
   ]
  },
  {
   "cell_type": "markdown",
   "metadata": {},
   "source": [
    "#### Exercise 1\n",
    "1. Use the geopandas method above to get the boundary of the country of your study area, convert it to a GEE feature and plot it.\n",
    "\n",
    "#### Exercise 2\n",
    "2. Use `print(gpd.datasets.available)` to see the other datasets available.\n",
    "3. Read in one of the datasets and look at the dataframe\n",
    "4. Filter the dataset down to a manageable size\n",
    "5. Convert to a GEE feature\n",
    "6. Plot it"
   ]
  },
  {
   "cell_type": "markdown",
   "metadata": {},
   "source": [
    "## Importing Shapefiles\n",
    "Using `geopandas` is the preferred method as it's flexible for many different datatypes and supports a wide array of operations before you convert into a GEE feature. However, in some cases you might want to just read in a shapefile directly. Follow along with the [notebook](https://geemap.org/notebooks/10_shapefiles/) to understand the basic operations of using shapefiles\n",
    "\n",
    "#### Exercise 3\n",
    "\n",
    "1. Find a shapefile of your study area and download it\n",
    "2. Add the path to the shapefile into your notebook (easiest method is to just bring the shapefile into the same location as your notebook)\n",
    "3. Convert it into GEE feature\n",
    "4. Plot the result"
   ]
  },
  {
   "cell_type": "markdown",
   "metadata": {},
   "source": [
    "# Sample Solution to Exercise 3\n",
    "\n",
    "1. Download administrative units shapefile for the country of Nigeria from the World Bank \n",
    "* [Data Catalog](https://datacatalog.worldbank.org/search/dataset/0039368)\n",
    "2. Put all files associated with the shapefile in a folder called `data` next to \n",
    "3. You can use the code below to look at the filenames and copy and paste\n",
    "* `!ls ./data`\n",
    "4. Include the relative path name to the shapefile\n",
    "Note: The following code will only work when the data is correct relative to the script\n"
   ]
  },
  {
   "cell_type": "code",
   "execution_count": null,
   "metadata": {},
   "outputs": [],
   "source": [
    "df = './data/nga_admbnda_adm2_osgof_20170222.shp'"
   ]
  },
  {
   "cell_type": "markdown",
   "metadata": {},
   "source": [
    "5. Convert the shapefile to a GEE feature"
   ]
  },
  {
   "cell_type": "code",
   "execution_count": 20,
   "metadata": {},
   "outputs": [],
   "source": [
    "gee_vector = geemap.shp_to_ee(df)"
   ]
  },
  {
   "cell_type": "markdown",
   "metadata": {},
   "source": [
    "# 6. Plot the map"
   ]
  },
  {
   "cell_type": "code",
   "execution_count": 18,
   "metadata": {},
   "outputs": [
    {
     "data": {
      "application/vnd.jupyter.widget-view+json": {
       "model_id": "9337bd83ed6046a78c6a173ed868e7c8",
       "version_major": 2,
       "version_minor": 0
      },
      "text/plain": [
       "Map(center=[20, 0], controls=(WidgetControl(options=['position', 'transparent_bg'], widget=HBox(children=(Togg…"
      ]
     },
     "metadata": {},
     "output_type": "display_data"
    }
   ],
   "source": [
    "\n",
    "Map2 = geemap.Map()\n",
    "Map2.addLayer(gee_vector, {}, 'Admin Units - Nigeria')\n",
    "Map2"
   ]
  },
  {
   "cell_type": "markdown",
   "metadata": {},
   "source": [
    "## Taking this further\n",
    "\n",
    "This was a quick introduction to working with vector data and incorporating it into GEE. For most of the projects we will be working on, polygons are the most prominent, but you can do some sophisticated analysis with both points and lines as well. GIS and working with vector data is a pretty wide-ranging topic, but below are some good resources to learn more and improve your analysis. \n",
    "\n",
    "In the next topic, we will start the process of clipping the satellite imagery to our study area, building an index, and reducing the information down to summary statistics. Look through the two notebooks below to get a better feel of the next step in the process.\n",
    "[Zonal Statistics](https://geemap.org/notebooks/12_zonal_statistics/#convert-geopandas-geodataframe-to-eefeaturecollection)\n",
    "[Zonal Statistics by Group](https://geemap.org/notebooks/13_zonal_statistics_by_group/#calculate-land-cover-compostion-of-each-us-state)"
   ]
  },
  {
   "cell_type": "markdown",
   "metadata": {},
   "source": [
    "## Resources for Vector Data\n",
    "\n",
    "1. [Geopandas](https://geopandas.org/en/stable/)\n",
    "2. DataCamp - [Working with Geospatial Data in Python](https://app.datacamp.com/learn/courses/working-with-geospatial-data-in-python)\n",
    "3. [EarthLab](https://www.earthdatascience.org/courses/intro-to-earth-data-science/file-formats/use-spatial-data/file-formats-exercise/)"
   ]
  },
  {
   "cell_type": "markdown",
   "metadata": {},
   "source": []
  }
 ],
 "metadata": {
  "interpreter": {
   "hash": "b049b99fec94a46d20b9988d2997498044dc12560050df3afc669dc28cd1051f"
  },
  "kernelspec": {
   "display_name": "Python 3",
   "language": "python",
   "name": "python3"
  },
  "language_info": {
   "codemirror_mode": {
    "name": "ipython",
    "version": 3
   },
   "file_extension": ".py",
   "mimetype": "text/x-python",
   "name": "python",
   "nbconvert_exporter": "python",
   "pygments_lexer": "ipython3",
   "version": "3.7.10"
  }
 },
 "nbformat": 4,
 "nbformat_minor": 4
}
