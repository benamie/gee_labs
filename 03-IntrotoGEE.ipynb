{
 "cells": [
  {
   "cell_type": "markdown",
   "metadata": {
    "cell_id": "9438f7fa-5a27-4877-91cf-1d4fa63f0503",
    "deepnote_cell_height": 546,
    "deepnote_cell_type": "markdown"
   },
   "source": [
    "# Introduction to Google Earth Engine\n",
    "\n",
    "## Overview\n",
    "\n",
    "This is a pre-lab designed to introduce the functionality and structure of Google Earth Engine (GEE) before we get into the practical labs. We will provide a brief introduction to both the GEE JavaScript interface (the code editor) and GEE resources at your disposal. We will explain how to use GEE with other helpful geospatial packages within your Python Environment to extract meaningful information from satellite imagery. By the end of this lab, you should be able to access GEE imagery, upload your own assets, build some basic visualizations and be comfortable working with both the code editor and Python. This lab contains many different outside sources - spending the time now getting associated with the tools will save you significant time as we delve into more complex topics.\n",
    "\n",
    "One note: The JavaScript code editor is easier to get up and running, while the Python has more extensive data and analytical tools available, and is more commonly used throughout the Remote Sensing industry. Each code block is in Python, while some of this lab references the code editor. In subsequent labs, we will use Python exclusively.\n",
    "\n",
    "#### Learning Outcomes\n",
    "\n",
    "- Navigate and find what you need within the Google Earth Engine infrastructure\n",
    "- Describe and understand the major GEE data types and their associated methods\n",
    "- Building custom vector data within GEE\n",
    "\n",
    "[Video Introduction to GEE](https://www.youtube.com/watch?v=Ypo28T6wPbQ)"
   ]
  },
  {
   "cell_type": "code",
   "execution_count": 1,
   "metadata": {
    "cell_id": "00001-a5ca3d9c-f1b9-4821-9420-73a33e71c917",
    "deepnote_cell_height": 576,
    "deepnote_cell_type": "code",
    "deepnote_output_heights": [
     192
    ],
    "deepnote_to_be_reexecuted": false,
    "execution_millis": 4,
    "execution_start": 1654105458510,
    "owner_user_id": "658b2a16-1456-4994-b7e8-11257a829f64",
    "source_hash": "4c7ed9a4"
   },
   "outputs": [],
   "source": [
    "#!pip install geemap\n",
    "import ee, geemap, pprint\n",
    "#ee.Authenticate()\n",
    "\n",
    "def build_map(lat, lon, zoom, vizParams, image, name):\n",
    "    map = geemap.Map(center = [lat, lon], zoom = zoom)\n",
    "    map.addLayer(image, vizParams, name)\n",
    "    return map\n",
    "\n",
    "# Initialize the Earth Engine module.\n",
    "ee.Initialize()"
   ]
  },
  {
   "cell_type": "markdown",
   "metadata": {
    "cell_id": "00002-65cb3b4a-c38b-4ff0-b1c4-7e2c8b16b51f",
    "deepnote_cell_height": 384,
    "deepnote_cell_type": "markdown"
   },
   "source": [
    "#### Getting Set Up\n",
    "\n",
    "In addition to the petabytes of satellite imagery and products that GEE has available, it allows you to incorporate your own raster, vector, and relational data into your analysis. Note that this process is automatically linked to the same Google Drive account that signed up for GEE. Additionally, using Python has more flexibility and is easier to incorporate different information.\n",
    "\n",
    "If you are not familiar with Google Drive, the [Getting Started Guide](https://support.google.com/a/users/answer/9282958?hl=en) reviews the basics of maintaining resources within your Google Drive account. Although Google Cloud Platform Storage is beyond the scope of this course, it's an option and discussed in the documentation. We will go more in-depth on working with external data later, but below are some good resources to peruse.\n",
    "\n",
    "* [Managing Assets](https://developers.google.com/earth-engine/guides/asset_manager)\n",
    "* [Import Raster](https://developers.google.com/earth-engine/guides/image_upload)\n",
    "* [Import Vector / Tabular Data](https://developers.google.com/earth-engine/guides/table_upload) \n",
    "  * Note that GEE via JavaScript only supports Shapefiles and `.csv` files\n",
    "\n",
    "* [Exporting Data](https://developers.google.com/earth-engine/guides/exporting)"
   ]
  },
  {
   "cell_type": "markdown",
   "metadata": {
    "cell_id": "f27a4f3034c14223a5ac15aa44de07b1",
    "deepnote_cell_height": 234,
    "deepnote_cell_type": "markdown",
    "tags": []
   },
   "source": [
    "#### Gecomputation with GEE: Server vs. Client\n",
    "\n",
    "Understanding how Google Earth Engine works is critical for its effective use. The Developer's [overview](https://developers.google.com/earth-engine/guides/concepts_overview) provides much more detail on the intricacies of how GEE processes data on the Google Cloud Platform, but in the simplest terms, there are two sides to the process - the `client` side and `server` side. \n",
    "\n",
    "When you open your web browser and begin to work in the code editor, that is considered the `client` side. You can write code in the editor or your notebook and the code will be processed completely within your browser or local machine. The code chunk below simply creates variables `x` and `y`, adds them together as the variable `z` and prints the result. Google Earth Engine plays no role in the execution of the code unless you specifically tell it to."
   ]
  },
  {
   "cell_type": "code",
   "execution_count": 2,
   "metadata": {
    "cell_id": "00003-ce6b1b69-fced-4529-aaa2-873de036f74d",
    "deepnote_cell_height": 166,
    "deepnote_cell_type": "code",
    "deepnote_to_be_reexecuted": true,
    "execution_millis": 594410,
    "execution_start": 1654105060360,
    "source_hash": "b9afcd0c"
   },
   "outputs": [
    {
     "name": "stdout",
     "output_type": "stream",
     "text": [
      "3\n"
     ]
    }
   ],
   "source": [
    "x = 1\n",
    "y = 2\n",
    "z = x + y\n",
    "print(z)"
   ]
  },
  {
   "cell_type": "markdown",
   "metadata": {
    "cell_id": "00004-014b2c73-8d85-4c59-a99d-b15365b81cc8",
    "deepnote_cell_height": 118,
    "deepnote_cell_type": "markdown"
   },
   "source": [
    "To begin using the cloud computing resources of GEE, we have to call upon the server side. Let's say we want to import an image collection. In the snippet below, there is an `ee` before the `ImageCollection` constructor. In simple terms, this signals to Earth Engine that we will be using its resources. Without that indicator, GEE will cede operations to the JavaScript and process within the browser."
   ]
  },
  {
   "cell_type": "code",
   "execution_count": 3,
   "metadata": {
    "cell_id": "00005-b9ab89fd-123b-4335-98d8-f161ce951654",
    "deepnote_cell_height": 81,
    "deepnote_cell_type": "code",
    "deepnote_to_be_reexecuted": true,
    "execution_millis": 593060,
    "execution_start": 1654105060361,
    "source_hash": "ecca045d"
   },
   "outputs": [],
   "source": [
    "sentinelCollection = ee.ImageCollection('COPERNICUS/S2_SR')"
   ]
  },
  {
   "cell_type": "markdown",
   "metadata": {
    "cell_id": "5d6c1c6097244b598d0ef31f597039f2",
    "deepnote_cell_height": 154,
    "deepnote_cell_type": "markdown",
    "tags": []
   },
   "source": [
    "Over time, you will gain experience understanding the role of working with JavaScript on the `client` side and the `server` side, but the main point in this section is that when programming, we will be building 'packages' that draw upon GEE resources to complete their operations.\n",
    "\n",
    "An extension of this topic is listed [here](https://developers.google.com/earth-engine/guides/client_server), along with discussions of some specific programming topics (mapping instead of looping) - it might be advanced, but the bottom line is understand that the `client` and `server` work together to create an output. "
   ]
  },
  {
   "cell_type": "markdown",
   "metadata": {
    "cell_id": "00006-a72aeede-0afa-446d-aca6-f14927e5fddf",
    "deepnote_cell_height": 474,
    "deepnote_cell_type": "markdown"
   },
   "source": [
    "#### JavaScript\n",
    "The intent of this course is not to teach the intricacies of programming within JavaScript. JavaScript is the core language for web development and many of the tutorials and resources you find will not be directly relevant to the type of JavaScript that you will need to work in Earth Engine (e.g., React, JQuery, dynamic app development). JavaScript was chosen because it is an extremely popular language (~97% of websites use it in some fashion) and as an object-oriented language, it is well-suited to pair objects (in this case, imagery provided by Google Earth Engine) with methods (such as using the `reduce` function to summarize the analytical information from a processed image). \n",
    "\n",
    "Several excellent resources exist that can help you in working with JavaScript. One such resource is [Javascript.info](https://javascript.info), which provides a thorough overview of working with JavaScript. In this tutorial, focus on part I, as part II and III are directed towards web development and not relevant for this purpose.\n",
    "\n",
    "[W3Schools](https://www.w3schools.com/js/default.asp) provides good information on each individual component of working with JavaScript. For instance, if you see the word `var` and wanted more information on it, W3Schools has helpful definitions and code snippets that will be of use. \n",
    "\n",
    "Finally, [JavaScript & JQuery](http://www.javascriptbook.com) is an excellent, well-designed book that goes through the fundamentals of working with JavaScript and provides helpful illustrations and use cases. The second half of the book is outside the scope of this course, but if you did want to extend your skill-set, this book is a great starting point.\n",
    "\n",
    "**Bottom line**: The code editor uses JavaScript, and you are more than welcome to learn more - but for the purposes of this course, a basic understanding the language is adequate."
   ]
  },
  {
   "cell_type": "markdown",
   "metadata": {
    "cell_id": "00007-19332bc1-d706-4c52-b91d-e7fffefd5534",
    "deepnote_cell_height": 848,
    "deepnote_cell_type": "markdown"
   },
   "source": [
    "## Data and Methods\n",
    "\n",
    "Working with data structures and their associated methods is essential to understanding Google Earth Engine. \n",
    "\n",
    "Most Google Earth Engine tutorials begin with an introduction to the data you will be working with and the operations you can use to analyze this data. Each bullet point below contains a link to the GEE documentation - it is well worth your time to read through this as thoroughly as possible and get familar with these key terms. \n",
    "\n",
    "[Intro to Data](https://developers.google.com/earth-engine/guides)\n",
    "\n",
    "- [Image](https://developers.google.com/earth-engine/guides/image_overview)\n",
    "  - A singe raster image consisting of values and their associated values\n",
    "- [ImageCollection](https://developers.google.com/earth-engine/guides/ic_creating)\n",
    "  - A \"stack\" or sequence of images with the same attributes\n",
    "- [Geometry](https://developers.google.com/earth-engine/guides/geometries)\n",
    "  - Vector data either built within Earth Engine or imported\n",
    "  - Points, lines, polygons\n",
    "- [Feature](https://developers.google.com/earth-engine/guides/features)\n",
    "  -  `geometry` with associated attributes\n",
    "  -  An example would be a geometric `point` associated with the city of Paris\n",
    "- [FeatureCollection](https://developers.google.com/earth-engine/guides/feature_collections)\n",
    "  - A set of features that share a theme\n",
    "  - An example is a list of geometric `points` that describe all the capitals of the world\n",
    "- [Reducer](https://developers.google.com/earth-engine/guides/reducers_intro)\n",
    "  - A method used to compute statistics or perform aggregations on data over space, time, bands, arrays, and other data structures\n",
    "  - An example - aggregate the mean pixel value from an image for each neighborhood polygon\n",
    "- [Join](https://developers.google.com/earth-engine/guides/joins_intro)\n",
    "  - A method to combine datasets (`Image` or `Feature` collections) based on time, location, or specified attribute\n",
    "- [Array](https://developers.google.com/earth-engine/guides/arrays_intro)\n",
    "  - A flexible (albeit sometimes inefficient) data structure that can be used for multi-dimensional analyses."
   ]
  },
  {
   "cell_type": "markdown",
   "metadata": {
    "cell_id": "8174ceda7f8141f3a3d1eddb193b4917",
    "deepnote_cell_height": 845.5,
    "deepnote_cell_type": "markdown",
    "tags": []
   },
   "source": [
    "#### Flowchart\n",
    "Below is a simple flow chart of how the raster and vector data works together. \n",
    "\n",
    "![Sensed Versus Derived](https://github.com/ghidora77/03_GEE_Labs_DSPG/blob/main/im/im_00_06.png?raw=true)\n"
   ]
  },
  {
   "cell_type": "markdown",
   "metadata": {
    "cell_id": "00008-33253e19-e710-4d09-bb61-ea7dc459ffb8",
    "deepnote_cell_height": 444,
    "deepnote_cell_type": "markdown"
   },
   "source": [
    "## Images and Image Collections\n",
    "\n",
    "### Images\n",
    "\n",
    "**Images** are **Raster** objects composed of:\n",
    "\n",
    "- Bands, or layers with a unique:\n",
    "  - Name\n",
    "  - Data type\n",
    "  - Scale\n",
    "  - Mask\n",
    "  - Projection\n",
    "\n",
    "- Metadata, stored as a set of properties for that band. \n",
    "\n",
    "You can create images from constants, lists, or other objects. In the code editor 'docs', you'll find numerous processes you can apply to images. Ensure that you do not confuse an individual image with an image collection, which is a set of images grouped together, most often as a time series, and also known as a `stack`."
   ]
  },
  {
   "cell_type": "markdown",
   "metadata": {
    "cell_id": "00009-4608d4ce-eea4-482d-b134-ed8f3759bb8f",
    "deepnote_cell_height": 724,
    "deepnote_cell_type": "markdown"
   },
   "source": [
    "## Image Collections\n",
    "\n",
    "Let's analyze the code below, which extracts one individual image from an image collection.\n",
    "\n",
    "On the first line, we see that we are creating a variable named `image`, and then using `ee` in front of `ImageCollection`, which signifies we are requesting information from GEE. The data we are importing ('COPERNICUS/S2_SR') is the Sentinel-2 MSI: MultiSpectral Instrument, Level-2A, with more information found in the dataset [documentation](https://developers.google.com/earth-engine/datasets/catalog/COPERNICUS_S2_SR?hl=en#description). \n",
    "\n",
    "The next four steps refine the extraction of an image from an image collection. \n",
    "\n",
    "1. `.filterBounds` filters data to the area specified, in this case a geometry `Point` that was created within GEE.\n",
    "2. `.filterDate` filters between the two dates specified (filtering down to images collected in 2019)\n",
    "3. `.sort` organizes the image collection in descending order based upon the percentage of cloudy pixels \n",
    "   1. This is an attribute of the image, which can be found in the 'Image Properties' tab in the dataset documentation \n",
    "\n",
    "4. `.first` is an earth engine method of choosing the first image from the list of sorted images\n",
    "\n",
    "As a result, we can now use the variable 'first' to visualize the image. \n",
    "\n",
    "`Map.centerObject()` centers the map on the image, and the number is the amount of zoom. The higher that value is, the more zoomed in the image is - you'll likely have to adjust via trial-and-error to find the best fit. \n",
    "\n",
    "`Map.build_map()` adds the visualization layer to the map. Images and image collections each have a unique naming convention of their bands, so you will have to reference the documentation for each one you use. GEE uses Red-Green-Blue ordering (as opposed to the popular Computer Vision framework, OpenCV, which uses a Blue-Green-Red convention). `min` and `max` are the values that normalize the value of each pixel to the conventional 0-255 color scale. In this case, although the maximum value of a pixel in all three of those bands is 2000, for visualization purposes GEE will normalize that to 255, the max value in a standard 8-bit image. \n",
    "\n",
    "There is a comprehensive [guide](https://developers.google.com/earth-engine/guides/image_visualization) to working on visualization with different types of imagery that goes quite in-depth. It is a worthwhile read and covers some interesting topics such as false-color composites, mosaicking and single-band visualization. Work with some of the code-snippets to understand how to build visualizations for different sets of imagery. "
   ]
  },
  {
   "cell_type": "code",
   "execution_count": 4,
   "metadata": {
    "cell_id": "00010-5f9db0e5-15a5-4bc3-82f9-24771f319c7b",
    "deepnote_cell_height": 555,
    "deepnote_cell_type": "code",
    "deepnote_to_be_reexecuted": true,
    "execution_millis": 5328,
    "execution_start": 1654105060408,
    "source_hash": "e0ba43d7"
   },
   "outputs": [
    {
     "data": {
      "application/vnd.jupyter.widget-view+json": {
       "model_id": "9941cd2ba9674db3b4d4db3b4a8f70a2",
       "version_major": 2,
       "version_minor": 0
      },
      "text/plain": [
       "Map(center=[13.7, 2.54], controls=(WidgetControl(options=['position', 'transparent_bg'], widget=HBox(children=…"
      ]
     },
     "metadata": {},
     "output_type": "display_data"
    }
   ],
   "source": [
    "# Define the variables\n",
    "lat = 13.7; lon = 2.54\n",
    "zoom = 11\n",
    "image_collection_name = 'COPERNICUS/S2_SR'\n",
    "date_start = '2019-01-01'\n",
    "date_end = '2019-12-31'\n",
    "name = 'Sentinel - Surface Reflection'\n",
    "\n",
    "image = (\n",
    "    ee.ImageCollection(image_collection_name)\n",
    "         .filterBounds(ee.Geometry.Point(lon, lat))\n",
    "         .filterDate(date_start, date_end)\n",
    "         .sort('CLOUDY_PIXEL_PERCENTAGE')\n",
    "         .first()\n",
    ")\n",
    "\n",
    "bands = ['B4', 'B3', 'B2']\n",
    "\n",
    "vizParams = {\n",
    "    'bands': bands, \n",
    "    'min': 0, \n",
    "    'max': 3300\n",
    "}\n",
    "\n",
    "# Define a map centered in Niger\n",
    "map = build_map(lat, lon, zoom, vizParams, image, name)\n",
    "# Add the image layer to the map and display it.\n",
    "map"
   ]
  },
  {
   "cell_type": "markdown",
   "metadata": {
    "cell_id": "00011-33fec2c9-c876-473f-a0a4-48d9aee66d5a",
    "deepnote_cell_height": 1094.0625,
    "deepnote_cell_type": "markdown"
   },
   "source": [
    "### Sensed versus Derived Imagery\n",
    "\n",
    "One additional note: GEE provides a rich suite of datasets, and while many of them are traditional sensed imagery (shows reality as it is), others are derived datasets. For instance, the *Global Map of Oil Palm Plantations* [dataset](https://developers.google.com/earth-engine/datasets/catalog/BIOPAMA_GlobalOilPalm_v1) is derived from analysis using the Sentinel composite imagery. If you look at the bands, there are only three values, which refer to categories of palm plantations (industrical Palm Oil Plantation, small farm Palm Oil Plantation or not palm oil). Datasets such as these will have different methods for visualizing the data. As you can see below, this derived dataset is different than typical satellite imagery - the intent is to classify each 10m pixel value as one of the above categories. \n",
    "![Sensed Versus Derived](https://github.com/ghidora77/03_GEE_Labs_DSPG/blob/main/im/im_00_01.png?raw=true)"
   ]
  },
  {
   "cell_type": "markdown",
   "metadata": {},
   "source": [
    "#### National Cropland Data Layer \n",
    "Another common one is the National Cropland Data Layer - each pixel has 30m resolution, and defines the cropland type for the United States. Not all derived datasets are available all over the world, being that many are sponsored by government agencies acting in the purview of their own country. Explore the map below and match the code to the cropland type. "
   ]
  },
  {
   "cell_type": "code",
   "execution_count": 5,
   "metadata": {},
   "outputs": [
    {
     "data": {
      "application/vnd.jupyter.widget-view+json": {
       "model_id": "7abb557855294ae78ea5beff5756a49e",
       "version_major": 2,
       "version_minor": 0
      },
      "text/plain": [
       "Map(center=[40.71, -100.55], controls=(WidgetControl(options=['position', 'transparent_bg'], widget=HBox(child…"
      ]
     },
     "metadata": {},
     "output_type": "display_data"
    }
   ],
   "source": [
    "image = (ee.ImageCollection('USDA/NASS/CDL')\n",
    "                  .filter(ee.Filter.date('2018-01-01', '2019-12-31'))\n",
    "                  .first())\n",
    "image = image.select('cropland')\n",
    "map1 = build_map(40.71, -100.55, 9, {}, image, 'NLCD')\n",
    "map1"
   ]
  },
  {
   "cell_type": "markdown",
   "metadata": {
    "cell_id": "00012-3a046308-6bc6-49aa-8268-b20253a21690",
    "deepnote_cell_height": 1070.375,
    "deepnote_cell_type": "markdown"
   },
   "source": [
    "## Geometries\n",
    "\n",
    "Google Earth Engine handles vector data with the `geometry` data structure. Traditionally, this follows the basics of vector data, broadly: \n",
    "\n",
    "* Point\n",
    "* Line\n",
    "* Polygon\n",
    "\n",
    "However, GEE has several different nuances. \n",
    "\n",
    "* `Point`\n",
    "* `LineString`\n",
    "  * List of points that do not start and end at the same location\n",
    "* `LinearRing`\n",
    "  * LineString which starts and ends at the same location\n",
    "* `Polygon`\n",
    "  * List of LinearRing's - first item of the list is the outer shell and other components of the list are interior shells\n",
    "\n",
    "GEE also recognizes `MultiPoint`, `MultiLineString` and `MultiPolygon`, which are simply collections of more than one element. Additionally, you can combine any of these together to form a `MultiGeometry`. Here is a quick [video](https://www.youtube.com/watch?v=gcvhoznx0E8) of working with the geometry tools within GEE. \n",
    "\n",
    "Once you have a set of geometries, there are geometric operations you can use for analysis, such as building buffer zones, area analysis, rasterization, etc. The [documentation](https://developers.google.com/earth-engine/guides/geometric_operations) contains examples to show you how to get started, and all of the functions are listed under the 'docs' tab in the Code Editor."
   ]
  },
  {
   "cell_type": "markdown",
   "metadata": {
    "cell_id": "00013-4492feb8-5a34-4b6a-a1eb-92a14195a90b",
    "deepnote_cell_height": 324,
    "deepnote_cell_type": "markdown"
   },
   "source": [
    "## Features and Feature Collections\n",
    "\n",
    "### Features\n",
    "\n",
    "A Feature in GEE is an object which stores a `geometry`  (`Point`, `Line`, `Polygon`) along with its associated properties. GEE uses the GeoJSON data format to store and transmit these features. In the previous video, we saw how to build geometries within Google Earth Engine, while a feature adds meaningful information to it. This would be a good section to review working with dictionaries within JavaScript.\n",
    "\n",
    "Let's say we created an individual point, which we want to associate with data that we collected. The first line establishes the variable `point`, which is then used as the `geometry` to create a `feature`. The curly braces represent a JavaScript dictionary, which creates `Key:Value` pairs, which in our case is the type of tree and a measurement of the size. This new variable, `treeFeature`, now contains geographic information along with attribute data about that point. "
   ]
  },
  {
   "cell_type": "code",
   "execution_count": 6,
   "metadata": {
    "cell_id": "00014-32ddfa9a-729a-4d89-ae3d-61bfa8472c47",
    "deepnote_cell_height": 135,
    "deepnote_cell_type": "code",
    "deepnote_to_be_reexecuted": true,
    "execution_millis": 3023,
    "execution_start": 1654105062713,
    "source_hash": "b02df023"
   },
   "outputs": [
    {
     "name": "stdout",
     "output_type": "stream",
     "text": [
      "{'geometry': {'coordinates': [-79.68, 42.06], 'type': 'Point'},\n",
      " 'properties': {'size': 15, 'type': 'Pine'},\n",
      " 'type': 'Feature'}\n"
     ]
    }
   ],
   "source": [
    "# Earth Engine Geometry\n",
    "point = ee.Geometry.Point([-79.68, 42.06])\n",
    "# Create a Feature from the geometry\n",
    "treeFeature = ee.Feature(point, {'type': 'Pine', 'size': 15})\n",
    "\n",
    "pprint.pprint(treeFeature.getInfo())"
   ]
  },
  {
   "cell_type": "markdown",
   "metadata": {
    "cell_id": "00015-765e2b65-4328-4d10-a51e-5c789385ebca",
    "deepnote_cell_height": 96,
    "deepnote_cell_type": "markdown"
   },
   "source": [
    "Obviously this is just one point, but JavaScript and GEE engine provide functionality for bringing different data sources together and automatically associating geometries with attribute data. This can be done within GEE or outside, depending on your preferences."
   ]
  },
  {
   "cell_type": "markdown",
   "metadata": {
    "cell_id": "00016-873005cd-81cb-4d3d-91c3-9b3e32f38bce",
    "deepnote_cell_height": 210,
    "deepnote_cell_type": "markdown"
   },
   "source": [
    "### Feature Collections\n",
    "\n",
    "Just like the relationship between images and image collections, feature collections are features that can be grouped together for ease of use and analysis. They can be different types and combinations of geometry, as well as associated tabular data. The code segment from the documentation consolidates the operations discussed earlier. Each line has an interior layer which creates the geometry (`ee.Geometry.<geometry>()` ), which is then associated with attribute data (information within the {} ) and then converted to a Feature. This variable is a JavaScript `list`, which contains three separate, individual features.  This is then converted to a feature collection with the command `ee.FeatureCollection(features)`"
   ]
  },
  {
   "cell_type": "code",
   "execution_count": 7,
   "metadata": {
    "cell_id": "00017-145cc789-7e12-47a8-b5bf-66a54c411b07",
    "deepnote_cell_height": 243,
    "deepnote_cell_type": "code",
    "deepnote_to_be_reexecuted": true,
    "execution_millis": 801122,
    "execution_start": 1654105062714,
    "source_hash": "eb8d5fd7"
   },
   "outputs": [
    {
     "name": "stdout",
     "output_type": "stream",
     "text": [
      "{'columns': {'name': 'String', 'system:index': 'String'},\n",
      " 'features': [{'geometry': {'coordinates': [[[30.01, 59.8],\n",
      "                                             [30.59, 59.8],\n",
      "                                             [30.59, 60.15],\n",
      "                                             [30.01, 60.15],\n",
      "                                             [30.01, 59.8]]],\n",
      "                            'type': 'Polygon'},\n",
      "               'id': '0',\n",
      "               'properties': {'name': 'Voronoi'},\n",
      "               'type': 'Feature'},\n",
      "              {'geometry': {'coordinates': [-73.96, 40.781], 'type': 'Point'},\n",
      "               'id': '1',\n",
      "               'properties': {'name': 'Thiessen'},\n",
      "               'type': 'Feature'},\n",
      "              {'geometry': {'coordinates': [6.4806, 50.8012], 'type': 'Point'},\n",
      "               'id': '2',\n",
      "               'properties': {'name': 'Dirichlet'},\n",
      "               'type': 'Feature'}],\n",
      " 'type': 'FeatureCollection'}\n"
     ]
    }
   ],
   "source": [
    "# Make a list of Features.\n",
    "features = [\n",
    "  ee.Feature(ee.Geometry.Rectangle(30.01, 59.80, 30.59, 60.15), {'name': 'Voronoi'}),\n",
    "  ee.Feature(ee.Geometry.Point(-73.96, 40.781), {'name': 'Thiessen'}),\n",
    "  ee.Feature(ee.Geometry.Point(6.4806, 50.8012), {'name': 'Dirichlet'})\n",
    "]\n",
    "\n",
    "# Create a FeatureCollection from the list and print it.\n",
    "fromList = ee.FeatureCollection(features)\n",
    "pprint.pprint(fromList.getInfo())"
   ]
  },
  {
   "cell_type": "markdown",
   "metadata": {
    "cell_id": "00018-aa3ab680-fd38-4cd1-a84e-767df71b2f70",
    "deepnote_cell_height": 202,
    "deepnote_cell_type": "markdown"
   },
   "source": [
    "If run this code block in Google Earth Engine, you can see the information that is contained within the Feature Collection - three elements (features) and two columns (the `index` and the `properties`). By clicking on the dropdown next to each one, you can see that the first feature is a Polygon that has the name of 'Voronoi'.\n",
    "\n",
    "![Feature Collection Information](https://github.com/ghidora77/03_GEE_Labs_DSPG/blob/main/im/im_00_03.png?raw=true)\n",
    "\n",
    "Once you have information in a Feature Collection, you can filter it to find specific information, such as the name of an object or based on the size of a polygon, or provide aggregated analysis. The [documentation](https://developers.google.com/earth-engine/guides/features) on working with Feature Collections  is comprehensive and provides many ideas on how to use them efficiently in in your analysis. "
   ]
  },
  {
   "cell_type": "markdown",
   "metadata": {
    "cell_id": "00019-4647f2be-d0e4-4096-bdf3-be675749de65",
    "deepnote_cell_height": 262,
    "deepnote_cell_type": "markdown"
   },
   "source": [
    "## Methods: Reducers\n",
    "\n",
    "Up until now, we have focused on objects: Images, Features, and Geometries. Reducers are a method of aggregating data for analysis. For instance, we could take an Image Collection and use `reducer` to find the average value of the magnitude of each pixel across all the images of the collection, simplifying the data into a single layer. Or we could reduce an image to a set of regions, grouping similar data together to create an aggregated map. The applications of Reducer are endless, and can be applied to both Images and Features. There are different functions for different object types, and Reducer can be combined and sequenced to create a chain of analysis. From the documentation, the code chunk below creates the variable `max` which is the maximum elevation (in meters) of the imagery within our bounding box."
   ]
  },
  {
   "cell_type": "code",
   "execution_count": null,
   "metadata": {
    "cell_id": "00020-f6abaed9-bfd8-48ec-855b-47cc3be82c4e",
    "deepnote_cell_height": 645,
    "deepnote_cell_type": "code",
    "deepnote_to_be_reexecuted": true,
    "execution_millis": 3737,
    "execution_start": 1654105062746,
    "source_hash": "92953c81"
   },
   "outputs": [],
   "source": [
    "# Define the variables\n",
    "lat = 13.7; lon = 2.54\n",
    "zoom = 11\n",
    "\n",
    "name = 'Shuttle Radar Topography Mission (SRTM)'\n",
    "\n",
    "# The input image to reduce, in this case an SRTM elevation map.\n",
    "image = ee.Image('CGIAR/SRTM90_V4')\n",
    "\n",
    "map3 = build_map(lat, lon, zoom, {}, image, name)\n",
    "#map3 = build_map(lat, lon, zoom, {'min':0, 'max':800}, image, name)\n",
    "map3\n"
   ]
  },
  {
   "cell_type": "code",
   "execution_count": 9,
   "metadata": {},
   "outputs": [
    {
     "name": "stdout",
     "output_type": "stream",
     "text": [
      "{'elevation': 313}\n"
     ]
    }
   ],
   "source": [
    "# Build a polygon within the country of Niger in GEE Code Editor\n",
    "poly = ee.Geometry.Polygon(\n",
    "        [[[1.3574234405151886, 14.106344008176682],\n",
    "          [1.3574234405151886, 12.888520121683442],\n",
    "          [3.8842789092651886, 12.888520121683442],\n",
    "          [3.8842789092651886, 14.106344008176682]]]\n",
    ")\n",
    "\n",
    "# Reduce the image within the given region, using a reducer that\n",
    "# computes the max pixel value.  We also specify the spatial\n",
    "# resolution at which to perform the computation, in this case 200\n",
    "# meters.\n",
    "max = image.reduceRegion(\n",
    "  reducer = ee.Reducer.max(),\n",
    "  geometry = poly,\n",
    "  scale = 200\n",
    ")\n",
    "\n",
    "# Print the result (a Dictionary) to the console.\n",
    "pprint.pprint(max.getInfo())"
   ]
  },
  {
   "cell_type": "markdown",
   "metadata": {
    "cell_id": "00021-c66f6d68-faa5-4bf8-811c-1b912c2b4203",
    "deepnote_cell_height": 264,
    "deepnote_cell_type": "markdown"
   },
   "source": [
    "We have successfully calculated the elevation in an area of Niger in under 2 seconds! In future projects, we will calculate a wide range of usable values incredibly quickly. \n",
    "\n",
    "There are hundreds of different operations for using `Reducer`, with the functions listed on the left hand table under 'Docs'. Certain functions will only work with specific object types, but follow along with the Reducer [documentation](https://developers.google.com/earth-engine/guides/reducers_intro) to get a better understanding of how to aggregate data and extract meaningful results. Getting familiar with Reducer is an essential component to working with Google Earth Engine. "
   ]
  },
  {
   "cell_type": "markdown",
   "metadata": {
    "cell_id": "6b5c5edbb37f4abbbf77d9297689d340",
    "deepnote_cell_height": 573,
    "deepnote_cell_type": "markdown",
    "tags": []
   },
   "source": [
    "## Joins and Arrays\n",
    "\n",
    "### Join\n",
    "\n",
    "If you have programmed in the past, joining data together is a familiar concept. This process associates information from different dataset together. Let's say you have an Image Collection of Landsat data that is filtered to the first six months of the year 2016 and a bounding box of your area of study. You also have a table of Redwood tree locations that is filtered to the same area of study, although it contains information over the past decade. You can use a Join to associate information about the trees from the Feature Collection and include it in the Image Collection, keeping only the relevant data that falls within that timeframe. You now have a consolidated dataset with useful information from both the Image Collection and Feature Collection. Although there are different types of joins, the process brings information together, keeping only relevant information. The [documentation](https://developers.google.com/earth-engine/guides/joins_save_all) on Joins goes over specific examples and concepts, but a crucial component is understanding the type of join you need the three most prominent within GEE are: \n",
    "\n",
    "* Left Join\n",
    "  * Keeps all the information from the primary dataset, and only information that joins from the secondary dataset\n",
    "* Inner Join\n",
    "  * Keeps only the information where the primary and secondary data match\n",
    "* Spatial Join\n",
    "  * A join based on spatial location (e.g., keep only the geometry points that fall within a polygon)\n",
    "\n",
    "GEE provides some unique types of joins, including 'Save-All', 'Save-Best' and 'Save-First', which are useful if you want to look at a specific area."
   ]
  },
  {
   "cell_type": "markdown",
   "metadata": {
    "cell_id": "daf26e9cdfbf4b04930f5457cc117b72",
    "deepnote_cell_height": 348,
    "deepnote_cell_type": "markdown",
    "tags": []
   },
   "source": [
    "### Arrays\n",
    "\n",
    "Arrays are a collection of data where information is stored contiguously - matrices are a multi-dimensional array. For instance, an image might have 1024 rows and 1024 columns. Each row is an array, each column is an array, and taken together, you have a 2-dimensional array, also known as a matrix. If the image has three separate color channels, then that is a 3-dimensional array. Some of the terminology changes depending on discipline (ie, physics vs. computer science), but if you are familiar with working with matrices and arrays in programming languages such as Matlab, NumPY or OpenCV, it is important to understand the role of arrays within GEE. \n",
    "\n",
    "In fact, Google Earth Engine states that working with arrays outside of the established functions that they have built is not recommended, as GEE is not specifically designed for array-based math, and will lead to unoptimized performance. \n",
    "\n",
    "There is a very informative [video](https://developers.google.com/earth-engine/guides/arrays_intro) that delves into the engineering behind Google Earth Engine, but in this course we will only be doing a limited amount with array transformations and Eigen Analysis. In many cases, you will probably be better off aggregating the specific data and then conducting array mathematics with programming languages more geared for this (Python, R, MatLab)."
   ]
  }
 ],
 "metadata": {
  "deepnote": {
   "is_reactive": false
  },
  "deepnote_execution_queue": [],
  "deepnote_notebook_id": "f4ec552a-b460-4944-bd63-aae03b183bc2",
  "interpreter": {
   "hash": "b049b99fec94a46d20b9988d2997498044dc12560050df3afc669dc28cd1051f"
  },
  "kernelspec": {
   "display_name": "Python 3",
   "language": "python",
   "name": "python3"
  },
  "language_info": {
   "codemirror_mode": {
    "name": "ipython",
    "version": 3
   },
   "file_extension": ".py",
   "mimetype": "text/x-python",
   "name": "python",
   "nbconvert_exporter": "python",
   "pygments_lexer": "ipython3",
   "version": "3.8.8"
  }
 },
 "nbformat": 4,
 "nbformat_minor": 4
}
