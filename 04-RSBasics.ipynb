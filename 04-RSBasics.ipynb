{
 "cells": [
  {
   "cell_type": "markdown",
   "metadata": {},
   "source": [
    "Lab 1: AAEC/FREC/GEOG 5544 (Remote Sensing in the Social Sciences - Fall 2022)\n",
    "\n",
    "Refer back to here for the full lab list: https://benamie.github.io/gee_labs/"
   ]
  },
  {
   "cell_type": "markdown",
   "metadata": {
    "cell_id": "2699296e-6725-4899-908b-7d3fc81ce27a",
    "deepnote_cell_height": 242,
    "deepnote_cell_type": "markdown",
    "deepnote_to_be_reexecuted": false,
    "execution_millis": 61,
    "execution_start": 1648998113209,
    "source_hash": "38e8d8f7",
    "tags": []
   },
   "source": [
    "# Digital Images\n",
    "\n",
    "## Overview\n",
    "\n",
    "The purpose of this lab is to introduce you to the core concepts of remote sensing. We will cover digital images, datum and projections, and the different types of resolution: spatial, spectral, temporal and radiometric. We will also cover some of the most well-known satellite platforms that we will be working with. At the completion of this lab, you will be able to work within Google Earth Engine to select the data that is the best fit for your use case, visualize the data and begin to extract insight from it."
   ]
  },
  {
   "cell_type": "markdown",
   "metadata": {
    "cell_id": "729882b55a2544f091f74589c38ec77c",
    "deepnote_cell_height": 263,
    "deepnote_cell_type": "markdown",
    "tags": []
   },
   "source": [
    "#### Learning Outcomes\n",
    "\n",
    "1. Understand and describe the following terms:\n",
    "   - Digital image\n",
    "   - Datum\n",
    "   - Projection\n",
    "   - Resolution (spatial, spectral, temporal, radiometric)\n",
    "2. Navigate the Google Earth Engine console to gather information about the imagery contained within a satellite platform\n",
    "3. Visualize a digital image within Google Earth Engine and use inspector to look at pixel values"
   ]
  },
  {
   "cell_type": "markdown",
   "metadata": {
    "cell_id": "00002-17a4c969-df57-477b-9754-1c032025d04e",
    "deepnote_cell_height": 271,
    "deepnote_cell_type": "markdown"
   },
   "source": [
    "## Digital Image\n",
    "\n",
    "A digital image is a matrix of equally-sized square pixels that are each defined by two main attributes:\n",
    "\n",
    "1. The position within the matrix, as defined by row, column and layer\n",
    "2. A value associated with that position\n",
    "\n",
    "In the context of geospatial imagery, we will refer to these pixel-based data structures as 'raster', as opposed to 'vector' data (points, lines, polygons). While vector and raster data both work in conjunction with one another, they have different attributes and characteristics. Before we discuss geospatial raster imagery, let's understand how a regular photograph is created. All of the images below were used from example photographs in the documentation in MatLab and OpenCV. "
   ]
  },
  {
   "cell_type": "markdown",
   "metadata": {
    "cell_id": "00003-fdd6d647-f8a0-443e-9588-29776e617d66",
    "deepnote_cell_height": 1061,
    "deepnote_cell_type": "markdown"
   },
   "source": [
    "#### One Layer Grayscale\n",
    "\n",
    "Let's start with a grayscale image of some peppers. This image is a rectangle that contains 384 rows and 512 columns of pixels - because it is greyscale, there is only one brightness magnitude value (between 0 and 255) for each position. While humans see shapes, hues and definition, a computer is only recording a brightness value for each pixel. \n",
    "\n",
    "![Grayscale Image](https://github.com/ghidora77/03_GEE_Labs_DSPG/blob/main/im/im_01_01.png?raw=true)\n",
    "\n",
    "Below is a small segment of the matrix of values of the greyscale image between rows 50 and 60 and columns 50 and 60. Note that when working with imagery, the row/column position starts on the top left. Using our row/column designation:\n",
    "\n",
    "* `greyscale(54, 50)`  has a value of 52\n",
    "* `greyscale(50, 54)` has a value of 49\n",
    "* `greyscale(60, 60)` has a value of 47\n",
    "\n",
    "![Matrix of Grayscale Image](https://github.com/ghidora77/03_GEE_Labs_DSPG/blob/main/im/im_01_02.png?raw=true)"
   ]
  },
  {
   "cell_type": "markdown",
   "metadata": {
    "cell_id": "00004-f02082bc-c560-4e89-a3ae-d38cf5c0180e",
    "deepnote_cell_height": 626,
    "deepnote_cell_type": "markdown"
   },
   "source": [
    "#### Three Layer Color Image\n",
    "\n",
    "The image is still the same, although this now has color. The number of rows, columns and the size of each pixel remain the same, but unlike the greyscale image, we now have three layers, or bands. Each band represents the value in each of the three primary colors: red, green, blue. If we look at the size of our matrix, it is now 384x512x3. For each row and column position, we now have 3 separate values between 0 and 255, which blend together into a color that we, as humans, can process. \n",
    "\n",
    "![Color Image](https://github.com/ghidora77/03_GEE_Labs_DSPG/blob/main/im/im_01_03.png?raw=true)"
   ]
  },
  {
   "cell_type": "markdown",
   "metadata": {
    "cell_id": "00005-9cef6cb9-0f6c-4bb6-9d37-b386b906c4f7",
    "deepnote_cell_height": 2321,
    "deepnote_cell_type": "markdown"
   },
   "source": [
    "#### Extension to Geospatial Imagery\n",
    "\n",
    "Geospatial imagery poses two additional complications on top of a traditional color photograph. For analysis, we need to be able to tie our imagery to the real world. In the image of peppers, each pixel was built on an arbitrary axis of rows and columns that start at zero. However, this gives us no meaningful information about where in the world the red bell pepper is located. With geospatial imagery, we need to associate pixels with location. We need to know the exact size of the pixel, and position on earth. The high-resolution imagery below is produced by the 'National Agriculture Imagery Program'. This imagery has a red, green and blue value and a latitude and longitude (-74.01, 40.72), in addition to a size (each pixel represents 1 meter by 1 meter). With this information, we can associate our pixel values with location on earth (New York), and aggregate the information we need. \n",
    "\n",
    "![Pixel Location](https://github.com/ghidora77/03_GEE_Labs_DSPG/blob/main/im/im_01_04.png?raw=true)\n",
    "\n",
    "The other complexity we are faced with is that satellite imagery often has many layers. While our image of peppers had only a red, green and blue value, many satellite platforms are equipped to provide much more information. Most platforms have a value in the near infra-red range - while others have numerous bands, with different scales and resolutions. For instance, the Landsat 8 sensor has eleven bands capturing information from eleven different portions of the electromagentic spectrum, including near infrared (NIR) and thermal bands that are invisible to the human eye. Many Machine Learning projects, which we will explore in later labs, involve normalizing or transforming the information contained within each of these layers. Note that while each pixel size must be the same within each individual layer, the layers can be different. For instance, a satellite platform may have 5 meter spatial resolution in the red/green/blue range, but 60m resolution in the near infra-red range. While visualizing satellite imagery as a traditional photograph is a good starting point, there's much more information that we can incorporate into our analysis. We often build false or pseudocolor images by utilizing different combintions of bands, or we can focus in on certain infrared signatures to detect asphalt roads and roofs. The possibilities of analysis within remote sensing are endless, but this also leads to complications. \n",
    "\n",
    "![Spectral Band Documentation](https://github.com/ghidora77/03_GEE_Labs_DSPG/blob/main/im/im_01_05.png?raw=true)\n",
    "\n",
    "As said before, digital images are often referred to as 'raster' data. ESRI, makers of ArcGIS has an excellent overview of using raster imagery in geospatial analysis featured [here](https://desktop.arcgis.com/en/arcmap/10.3/manage-data/raster-and-images/what-is-raster-data.htm)."
   ]
  },
  {
   "cell_type": "markdown",
   "metadata": {
    "cell_id": "00006-39a8c0b8-a317-4f20-b9e6-86ee5cb52c50",
    "deepnote_cell_height": 610,
    "deepnote_cell_type": "markdown"
   },
   "source": [
    "### From Digital Image to Geospatial Image\n",
    "\n",
    "To make the connection between our satellite imagery and real-world location even more complicated is the fact that a digital image is a flat, square surface - the earth is spherical. \n",
    "\n",
    "To make use remote sensing imagery, we need to align the pixels in our image to a real-world location. There's quite a bit of mathematics involved in this process, but we will focus on two main components - establishing a Geographic Coordinate System (GCS) and a Projected Coordinate System (PCS).\n",
    "\n",
    "The GCS defines the spherical location of the image whereas the PCS defines how the grid around that location is constructed. Because the earth is not a perfect sphere, there are different GCS for different regions, such as 'North American Datum: 83' which is used to accurately define North America, and 'World Geodetic System of 1984', which is used globally. \n",
    "\n",
    "The PCS then constructs a flat grid around the GCS to create a relationship between each pixel of a 2-dimensional image to the corresponding area on the world. Some of the common PCS formats include EPSG, Albers Conic, Lambert, Eckert, Equidistant, etc. Different types of PCS's are designed for different use cases, as the needs of a petroleum engineer working over a few square miles will differ from than a climate change researcher measuring global change. Much of the discussion of defining GCS is outside the scope of this course, but the important thing to note is that a GCS defines the starting point for a projection.\n",
    "\n",
    "ESRI has an [article](https://www.esri.com/arcgis-blog/products/arcgis-pro/mapping/gcs_vs_pcs/) discussing the difference between GCS and PCS that provides further context on this relationship. While you should be aware of these two major terms - especially when you intend to run analysis on the data you download from GEE in another system, such as R, Python, or ArcGIS - GEE takes care of much of the complexity of these differences behind the scenes. Further documentation on the GEE methodology can be found [here](https://developers.google.com/earth-engine/guides/projections). In our first exercise, we will show you how to identify the PCS so you can understand the underlying structure. \n",
    "\n",
    "Understanding the bands available in your datasets, identifying which bands are necessary (and appropriate) for your analysis, and ensuring that these data represent consistent spatial locations is essential. While GEE simplifies many complex calculations behind the scenes, this lab will help us unpack the products available to us and their essential characteristics."
   ]
  },
  {
   "cell_type": "markdown",
   "metadata": {
    "cell_id": "00007-459611fa-7101-4dfa-a2c4-360dee403dfb",
    "deepnote_cell_height": 1667.734375,
    "deepnote_cell_type": "markdown"
   },
   "source": [
    "### Visualize a Digital Image\n",
    "\n",
    "Let’s view a digital image in GEE to better understand this concept. There are three major ways to import imagery within GEE. \n",
    "\n",
    "1. You can navigate to the GEE [datasets](https://developers.google.com/earth-engine/datasets/) page, choose the image collection you would like to work with and import the code example (click the button called `import`), which is normally located at the bottom of each dataset page. This code example is a standalone code chunk that will correctly visualize the data, and is an excellent way to get an understanding for the different satellite platforms - feel free to explore some datasets you are interested in, change variables and inputs to see what happens. \n",
    "\n",
    "![Dataset Code Example](https://github.com/ghidora77/03_GEE_Labs_DSPG/blob/main/im/im_01_06.png?raw=true)\n",
    "\n",
    "2. In the search bar of the code editor, you can search for the specific imagery you are looking for. When you click on it, a pop-up window will come up that allows you to either import the image directly (bottom right) or copy the path to the image collection (left-hand side). They both work the same way, using the import button will incorporate it into the variable list directly (separated top section of the editor), where you have to specifically define the variable if you copy the path to the image collection. \n",
    "\n",
    "![Image Collection Snippet](https://github.com/ghidora77/03_GEE_Labs_DSPG/blob/main/im/im_01_07.png?raw=true)\n",
    "\n",
    "In the map window of GEE, click on the `point` geometry tool using the [geometry drawing tools](https://developers.google.com/earth-engine/playground#geometry-tools) to define your area of interest. For the purpose of consistency in this exercise, place a point on the Virginia Tech Drillfield, which will bring you roughly to (-80.42, 37.23). As a reminder, you can find more information on geometry drawing tools in GEE’s Guides. Name the import `point`.\n",
    "\n",
    "> Note: some programming languages and frameworks read in latitude and longitude differently - Most read in the values as longitude / latitude. Double check your values, if you are importing data from Google Maps, you will have to switch the latitude and longitude when using within GEE\n",
    "\n",
    "Import NAIP imagery by searching for 'naip' and choosing the *'NAIP: National Agriculture Imagery Program'* raster dataset. Name the import `naip`. \n",
    "\n",
    "Get a single, recent NAIP image over your study area and inspect it:"
   ]
  },
  {
   "cell_type": "code",
   "execution_count": 1,
   "metadata": {
    "cell_id": "00008-e16bae87-1a84-430d-bdc9-402e10ead006",
    "deepnote_cell_height": 261,
    "deepnote_cell_type": "code",
    "deepnote_output_heights": [
     382
    ],
    "deepnote_to_be_reexecuted": false,
    "execution_millis": 5305,
    "execution_start": 1654104787385,
    "source_hash": "4c7ed9a4"
   },
   "outputs": [],
   "source": [
    "#!pip install geemap\n",
    "import ee, geemap, pprint\n",
    "#ee.Authenticate()\n",
    "def build_map(lat, lon, zoom, vizParams, image, name):\n",
    "    map = geemap.Map(center = [lat, lon], zoom = zoom)\n",
    "    map.addLayer(image, vizParams, name)\n",
    "    return map\n",
    "\n",
    "# Initialize the Earth Engine module.\n",
    "ee.Initialize()"
   ]
  },
  {
   "cell_type": "code",
   "execution_count": null,
   "metadata": {
    "cell_id": "00009-6f0c617c-713c-487b-8bb3-f4c0a01c3fd5",
    "deepnote_cell_height": 1163,
    "deepnote_cell_type": "code",
    "deepnote_to_be_reexecuted": false,
    "execution_millis": 2083,
    "execution_start": 1654104792704,
    "source_hash": "7f22a652"
   },
   "outputs": [
    {
     "data": {
      "application/vnd.jupyter.widget-view+json": {
       "model_id": "d95d827e50c54841aba33637de34c7af",
       "version_major": 2,
       "version_minor": 0
      },
      "text/plain": [
       "Map(center=[37.22, -80.42], controls=(WidgetControl(options=['position', 'transparent_bg'], widget=HBox(childr…"
      ]
     },
     "metadata": {},
     "output_type": "display_data"
    }
   ],
   "source": [
    "lat = 37.22; lon = -80.42\n",
    "zoom = 16\n",
    "image_collection_name = \"USDA/NAIP/DOQQ\"\n",
    "date_start = '2019-01-01'\n",
    "date_end = '2019-12-31'\n",
    "name = 'NAIP'\n",
    "point = ee.Geometry.Point([lon, lat])\n",
    "\n",
    "image = (\n",
    "    ee.ImageCollection(image_collection_name)\n",
    "         .filterBounds(ee.Geometry.Point(lon, lat))\n",
    "         .first()\n",
    ")\n",
    "\n",
    "bands = ['R', 'G', 'B']\n",
    "\n",
    "vizParams = {\n",
    "    'bands': bands, \n",
    "    'min': 0, \n",
    "    'max': 255\n",
    "}\n",
    "\n",
    "# Define a map centered on Blacksburg, VA\n",
    "map = build_map(lat, lon, zoom, vizParams, image, name)\n",
    "\n",
    "# Add the image layer to the map and display it.\n",
    "map"
   ]
  },
  {
   "cell_type": "markdown",
   "metadata": {
    "cell_id": "00010-2371f99d-a995-4f33-bfb1-4c9a8d679d2e",
    "deepnote_cell_height": 314,
    "deepnote_cell_type": "markdown"
   },
   "source": [
    "Expand the image object that is printed to the console by clicking on the dropdown triangles. Expand the property called `bands` and expand one of the bands (0, for example). Note that the CRS transform is stored in the `crs_transform` property underneath the band dropdown and the CRS is stored in the `crs` property, which references an EPSG code. \n",
    "\n",
    "> **EPSG Codes** are 4-5 digit numbers that represent CRS definitions. The acronym EPSG, comes from the (now defunct) European Petroleum Survey Group. The CRS of this image is [EPSG:26917](https://spatialreference.org/ref/epsg/nad83-utm-zone-17n/). You can learn more about these codes from the [EPSG homepage](https://epsg.org/home.html). \n",
    "\n",
    "> The CRS transform is a list `[m00, m01, m02, m10, m11, m12]`in the notation of [this reference](http://docs.oracle.com/javase/7/docs/api/java/awt/geom/AffineTransform.html).  The CRS transform defines how to map pixel coordinates to their associated spherical coordinate through an affine transformation. While affine transformations are beyond the scope of this class, more information can be found at [Rasterio](https://rasterio.readthedocs.io/en/latest/topics/georeferencing.html), which provides detailed documentation for the popular Python library designed for working with geospatial data. \n",
    "\n",
    "In addition to using the dropdowns, you can also access these data programmatically with the `.projection()` method:"
   ]
  },
  {
   "cell_type": "code",
   "execution_count": null,
   "metadata": {
    "cell_id": "00011-16a111b2-2848-483d-ba08-9d10fc0bc06d",
    "deepnote_cell_height": 99,
    "deepnote_cell_type": "code",
    "deepnote_to_be_reexecuted": false,
    "execution_millis": 1,
    "execution_start": 1654104794334,
    "source_hash": "ce241f95"
   },
   "outputs": [
    {
     "name": "stdout",
     "output_type": "stream",
     "text": [
      "Inspect the projection of band 0: {'type': 'Projection', 'crs': 'EPSG:26917', 'transform': [0.6, 0, 549629.3999999999, 0, -0.6, 4123089]}\n"
     ]
    }
   ],
   "source": [
    "# Display the projection of band 0\n",
    "print('Inspect the projection of band 0:', image.select(0).projection().getInfo())"
   ]
  },
  {
   "cell_type": "markdown",
   "metadata": {
    "cell_id": "00012-c7d57bb3-80f0-4d0a-92f0-22512da58714",
    "deepnote_cell_height": 140,
    "deepnote_cell_type": "markdown"
   },
   "source": [
    "Note that the projection can differ by band, which is why it's good practice to inspect the projection of individual image bands. If you call `.projection()` on an image for which the projection differs by band, you'll get an error. Exchange the NAIP imagery with the Planet SkySat MultiSpectral image collection, and note that the error occurs because the 'P' band has a different pixel size than the others. Explore the `ee.Projection` docs to learn about useful methods offered by the `Projection` object. To play with projections offline, try [this tool](http://www.giss.nasa.gov/tools/gprojector/)."
   ]
  },
  {
   "cell_type": "markdown",
   "metadata": {},
   "source": [
    "# Resolution\n",
    "\n",
    "In this lab, we will discuss resolution in the context of satellite imagery. We will focus on the four primary types:\n",
    "\n",
    "1. Spatial\n",
    "2. Temporal\n",
    "3. Radiometric\n",
    "4. Spectral\n",
    "\n",
    "While doing this, we will introduce three of the most well-known satellite missions:\n",
    "1. MODIS\n",
    "2. Landsat\n",
    "3. Sentinel"
   ]
  },
  {
   "cell_type": "code",
   "execution_count": null,
   "metadata": {},
   "outputs": [],
   "source": [
    "!pip install geemap\n",
    "\n",
    "import ee, geemap, pprint\n",
    "#ee.Authenticate()\n",
    "\n",
    "def build_map(lat, lon, zoom, vizParams, image, name):\n",
    "    map = geemap.Map(center = [lat, lon], zoom = zoom)\n",
    "    map.addLayer(image, vizParams, name)\n",
    "    return map\n",
    "\n",
    "# Initialize the Earth Engine module.\n",
    "ee.Initialize()"
   ]
  },
  {
   "cell_type": "markdown",
   "metadata": {
    "cell_id": "00013-0dd1e834-8ae0-427e-a322-2f5ff1bc613a",
    "deepnote_cell_height": 320,
    "deepnote_cell_type": "markdown"
   },
   "source": [
    "## Spatial Resolution                                                     \n",
    "\n",
    "Spatial resolution refers to the real-world representation of each pixel. This ranges widely, with the private satellite company Maxar announcing 15cm [resolution](https://blog.maxar.com/earth-intelligence/2020/introducing-15-cm-hd-the-highest-clarity-from-commercial-satellite-imagery), Sentinel at 10m, Landsat at 30m, and MODIS at 500. There are also large global products that have spatial resolution in the kilometers. The key point in dealing with spatial resolution is ensuring that your analysis drives your data collection, as there are tradeoffs involved. Using high resolution imagery can be expensive, both monetarily and computationally, if conducting continent wide analysis. Yet using low-resolution imagery will not be effective if your use case necessitates identifying individual buildings or small vehicles. Understanding the appropriate spatial resolution needed for your analysis is essential, and is why there are different platforms that focus on different spatial resolutions.\n",
    "\n",
    "In practice, spatial resolution depends on the projection of the sensor's instantaneous field of view (IFOV) of the ground and how a set of radiometric measurements are resampled into a regular grid. To see the difference in spatial resolution resulting from different sensors, let's visualize data from the three primary platforms."
   ]
  },
  {
   "cell_type": "markdown",
   "metadata": {
    "cell_id": "00014-c1af65b9-3680-43e9-9a29-f02ecf7f7f82",
    "deepnote_cell_height": 212,
    "deepnote_cell_type": "markdown"
   },
   "source": [
    "### MODIS \n",
    "\n",
    "There are two Moderate Resolution Imaging Spectro-Radiometers ([MODIS](http://modis.gsfc.nasa.gov/)) aboard the [Terra](http://terra.nasa.gov/) and [Aqua](http://aqua.nasa.gov/) satellites. Different MODIS [bands](http://modis.gsfc.nasa.gov/about/specifications.php) produce data at different spatial resolutions. For the visible bands, the lowest common resolution is 500 meters. Data from the MODIS platforms are used to produce a large number of data sets having daily, weekly, 16-day, monthly, and annual data sets. Outside this lab, you can find a list of MODIS land products [here](https://lpdaac.usgs.gov/dataset_discovery/modis/modis_products_table). \n",
    "\n",
    "In the code below, we are working with the MODIS Terra Surface Reflectance 8-day Global 500m resolution data. Change the number in the `zoom` variable to scroll in and out - notice that when scrolled in each pixel is quite large and granular. "
   ]
  },
  {
   "cell_type": "code",
   "execution_count": null,
   "metadata": {
    "cell_id": "00015-9a7a6525-a01b-4f3c-92dc-6d71703f9c2a",
    "deepnote_cell_height": 1163,
    "deepnote_cell_type": "code",
    "deepnote_to_be_reexecuted": false,
    "execution_millis": 1382,
    "execution_start": 1654104794475,
    "source_hash": "4b8451dc"
   },
   "outputs": [],
   "source": [
    "# Define the variables\n",
    "lat = 13.7; lon = 2.54\n",
    "zoom = 11\n",
    "image_collection_name = 'MODIS/006/MOD09A1'\n",
    "date_start = '2018-01-01'\n",
    "date_end = '2018-05-01'\n",
    "name = 'MODIS'\n",
    "\n",
    "image = (\n",
    "    ee.ImageCollection(image_collection_name)\n",
    "         .filterDate(date_start, date_end)\n",
    "         .first()\n",
    ")\n",
    "\n",
    "bands = ['sur_refl_b01', 'sur_refl_b04', 'sur_refl_b03']\n",
    "\n",
    "vizParams = {\n",
    "    'bands': bands, \n",
    "    'min': -100,\n",
    "    'max': 3000\n",
    "}\n",
    "\n",
    "map = build_map(lat, lon, zoom, vizParams, image, name)\n",
    "map"
   ]
  },
  {
   "cell_type": "markdown",
   "metadata": {
    "cell_id": "00016-f4d145ba-a1a3-4fb0-b044-b54539f77c81",
    "deepnote_cell_height": 118,
    "deepnote_cell_type": "markdown"
   },
   "source": [
    "We will discuss some of the benefits of working with a false-color imagery in later sections, but we can modify the bands we want to visualize. In this case, we are using a random set of bands, where the value of band six is visualized with red, band three is visualized with green, and band one with blue. Because the value of band six has a higher range, this image shows up with a heavy red presence. "
   ]
  },
  {
   "cell_type": "code",
   "execution_count": null,
   "metadata": {
    "cell_id": "00017-5f7c8e9a-cd31-4b15-be67-eb512ccc2c7b",
    "deepnote_cell_height": 911,
    "deepnote_cell_type": "code",
    "deepnote_to_be_reexecuted": false,
    "execution_millis": 1685,
    "execution_start": 1654104795845,
    "source_hash": "a195fd8"
   },
   "outputs": [],
   "source": [
    "bands = ['sur_refl_b06', 'sur_refl_b03', 'sur_refl_b01']\n",
    "\n",
    "vizParams = {\n",
    "    'bands': bands, \n",
    "    'min': -100, \n",
    "    'max': 3000\n",
    "}\n",
    "\n",
    "map1 = build_map(lat, lon, zoom, vizParams, image, name)\n",
    "map1"
   ]
  },
  {
   "cell_type": "markdown",
   "metadata": {},
   "source": [
    "## QUESTION 1\n",
    "\n",
    "Compare the size of MODIS pixels to objects on the ground. It may help to turn on the satellite basemap and lower the opacity of the layer (top right of map section of code editor) to see high-resolution data for comparison.\n",
    "\n",
    "## QUESTION 2\n",
    "\n",
    "Print the size of the pixels (in meters) to the console. You can read more about how Google Earth Engine works with scale in their documentation. While the listed pixel resolution for this satellite platform is 500m, the printout is likely different - this is due to the way that GEE aggregates pixels to fit into a 256x256 tile. The details of this process are outside the scope of this course, but understand that GEE is conducting projections and resampling behind the scenes."
   ]
  },
  {
   "cell_type": "markdown",
   "metadata": {
    "cell_id": "00020-270bea5e-3dd5-4892-a186-9c42b14564cb",
    "deepnote_cell_height": 154,
    "deepnote_cell_type": "markdown"
   },
   "source": [
    "### Landsat\n",
    "\n",
    "Multi-spectral [scanners](https://landsat.gsfc.nasa.gov/multispectral-scanner-system) (MSS) were flown aboard Landsat missions 1-5 and have a spatial resolution of 60 meters. Let's look at the Landsat 5 MSS Collection 1 Tier 1 Raw Scenes - note that in the 'Bands' description of the dataset, there is no band related to blue (Green, Red, Near InfraRed 1 & 2). In this case, we will have to visualize the image using the near infrared, resulting in a false color composite. "
   ]
  },
  {
   "cell_type": "code",
   "execution_count": null,
   "metadata": {
    "cell_id": "00021-8c4fd759-a623-49e3-86e4-96a1d7173354",
    "deepnote_cell_height": 1163,
    "deepnote_cell_type": "code",
    "deepnote_to_be_reexecuted": false,
    "execution_millis": 1513,
    "execution_start": 1654104797350,
    "source_hash": "251a001b"
   },
   "outputs": [],
   "source": [
    "# Landsat 5\n",
    "image_collection_name = 'LANDSAT/LT05/C02/T1_L2'\n",
    "date_start = '1985-01-01'\n",
    "date_end = '1989-12-31'\n",
    "name = 'Landsat 5'\n",
    "\n",
    "\n",
    "image = (\n",
    "    ee.ImageCollection(image_collection_name)\n",
    "         .filterDate(date_start, date_end)\n",
    "         .median()\n",
    ")\n",
    "\n",
    "bands = ['SR_B3', 'SR_B2', 'SR_B1']\n",
    "\n",
    "vizParams = {\n",
    "    'bands': bands, \n",
    "    'min': 500, \n",
    "    'max': 25000\n",
    "}\n",
    "\n",
    "map2 = build_map(lat, lon, zoom, vizParams, image, name)\n",
    "map2"
   ]
  },
  {
   "cell_type": "markdown",
   "metadata": {
    "cell_id": "00024-b94519ce-3df3-4577-b81e-19315c6d7fd4",
    "deepnote_cell_height": 176,
    "deepnote_cell_type": "markdown"
   },
   "source": [
    "The Thematic Mapper ([TM](https://landsat.gsfc.nasa.gov/thematic-mapper/)) was flown aboard Landsat 4-5 and then succeeded by the Enhanced Thematic Mapper ([ETM+](https://landsat.gsfc.nasa.gov/the-enhanced-thematic-mapper-plus-etm/)) aboard Landsat 7 and the Operational Land Imager ([OLI](https://landsat.gsfc.nasa.gov/landsat-8/operational-land-imager)) / Thermal Infrared Sensor ([TIRS](https://landsat.gsfc.nasa.gov/landsat-8/thermal-infrared-sensor-tirs)) sensors aboard Landsat 8. TM data have a spatial resolution of 30 meters, which has remained the Landsat standard resolution. We can check this by importing the '*USGS Landsat 5 TM Collection 1 Tier 1 TOA Reflectance*', visualizing and printing our scale results. For some additional discussion about the transition from MSS to TM data, see [this page](https://www.usgs.gov/core-science-systems/nli/landsat/landsat-5?qt-science_support_page_related_con=0#qt-science_support_page_related_con)."
   ]
  },
  {
   "cell_type": "code",
   "execution_count": null,
   "metadata": {
    "cell_id": "00025-eca3c53e-d4d1-45c7-a8f2-52b691da5c4d",
    "deepnote_cell_height": 1199,
    "deepnote_cell_type": "code",
    "deepnote_to_be_reexecuted": false,
    "execution_millis": 2075,
    "execution_start": 1654104798948,
    "source_hash": "87a77cf9"
   },
   "outputs": [],
   "source": [
    "# Landsat 8\n",
    "image_collection_name = 'LANDSAT/LC08/C02/T1_L2'\n",
    "date_start = '2018-07-01'\n",
    "date_end = '2018-12-01'\n",
    "name = 'Landsat 8'\n",
    "\n",
    "image = (\n",
    "    ee.ImageCollection(image_collection_name)\n",
    "        .filterDate(date_start, date_end)\n",
    "        .median()\n",
    ")\n",
    "\n",
    "bands = ['SR_B4', 'SR_B3', 'SR_B2']\n",
    "\n",
    "vizParams = {\n",
    "    'bands': bands, \n",
    "    'min': 5000, \n",
    "    'max': 20000\n",
    "}\n",
    "\n",
    "map3 = build_map(lat, lon, zoom, vizParams, image, name)\n",
    "map3"
   ]
  },
  {
   "cell_type": "markdown",
   "metadata": {},
   "source": [
    "### Sentinel\n",
    "The Copernicus Program is a European incentive that is run by the European Space Agency (ESA). Sentinel is the satellite constellation that collects high-resolution and Synthetic Aperture Radar imagery globally. Sentinel has 10m resolution. "
   ]
  },
  {
   "cell_type": "code",
   "execution_count": null,
   "metadata": {},
   "outputs": [],
   "source": [
    "image_collection_name = 'COPERNICUS/S2_SR'\n",
    "date_start = '2019-01-01'\n",
    "date_end = '2019-12-31'\n",
    "name = 'Sentinel - Surface Reflection'\n",
    "\n",
    "image = (\n",
    "    ee.ImageCollection(image_collection_name)\n",
    "         .filterBounds(ee.Geometry.Point(lon, lat))\n",
    "         .filterDate(date_start, date_end)\n",
    "         .sort('CLOUDY_PIXEL_PERCENTAGE')\n",
    "         .first()\n",
    ")\n",
    "\n",
    "bands = ['B4', 'B3', 'B2']\n",
    "\n",
    "vizParams = {\n",
    "    'bands': bands, \n",
    "    'min': 0, \n",
    "    'max': 3300\n",
    "}\n",
    "\n",
    "map4 = build_map(lat, lon, zoom, vizParams, image, name)\n",
    "map4"
   ]
  },
  {
   "cell_type": "markdown",
   "metadata": {
    "cell_id": "00028-f315dddd-c19c-4204-b408-fa6880a669bf",
    "deepnote_cell_height": 212,
    "deepnote_cell_type": "markdown"
   },
   "source": [
    "### High Resolution Data\n",
    "\n",
    "Very high resolution data exists, but is not necessarily available. Companies such as Planet Labs and Maxar operate satellites that are cabable of collecting imagery in the sub-meter resolution range, and academics may be able to obtain sample data, but it is not generally available. \n",
    "\n",
    "The National Agriculture Imagery Program ([NAIP](http://www.fsa.usda.gov/programs-and-services/aerial-photography/imagery-programs/naip-imagery/)) is an effort by the USDA to acquire imagery over the continental US on a 3-year rotation using airborne sensors (aircraft as opposed to satellites). Because aircraft are much closer to land than a satellite (and is not dealing with as many atmospheric effects) imagery has a spatial resolution averaging 1 meter. This is considered 'high resolution data'.\n",
    "\n",
    "Since NAIP imagery is distributed as 'quarters' of Digital Ortho Quads at irregular intervals, load everything from 2012 and [mosaic()](https://developers.google.com/earth-engine/guides/ic_composite_mosaic) the image together."
   ]
  },
  {
   "cell_type": "code",
   "execution_count": null,
   "metadata": {
    "cell_id": "00029-06ab0cc1-04bb-4558-b3c8-dad216dce998",
    "deepnote_cell_height": 1199,
    "deepnote_cell_type": "code",
    "deepnote_to_be_reexecuted": false,
    "execution_millis": 1802,
    "execution_start": 1654104801118,
    "source_hash": "5d21d3af"
   },
   "outputs": [],
   "source": [
    "\n",
    "image_collection_name = \"USDA/NAIP/DOQQ\"\n",
    "date_start = '2012-01-01'\n",
    "date_end = '2012-12-31'\n",
    "name = 'NAIP'\n",
    "point = ee.Geometry.Point([-80.41, 37.23])\n",
    "\n",
    "image = (\n",
    "    ee.ImageCollection(image_collection_name)\n",
    "            .filterDate(date_start, date_end)\n",
    "            .filterBounds(point)\n",
    ")\n",
    "\n",
    "image = image.mosaic()\n",
    "\n",
    "bands = ['R', 'G', 'B']\n",
    "\n",
    "vizParams = {\n",
    "    'bands': bands,\n",
    "    #'min': 0, \n",
    "    #'max': 255\n",
    "}\n",
    "\n",
    "map5 = build_map(37.23, -80.41, 16, vizParams, image, name)\n",
    "map5"
   ]
  },
  {
   "cell_type": "markdown",
   "metadata": {},
   "source": [
    "### QUESTION 3: SPATIAL RESOLUTION\n",
    "\n",
    "Look at the difference in the resolution - with Landsat and MODIS, each pixel could broadly identify the land type, but NAIP imagery has very high resolution - you can see individual parked cars, the outline of small trees, building envelopes, etc. Start asking yourself how the spatial resolutions of different platforms could help you answer unique questions.\n",
    "\n",
    "### QUESTION 4: NAIP\n",
    "\n",
    "Check the scale of NAIP by getting the first image from the mosaic (images within the mosaic might have different projections) and getting its scale (meters)."
   ]
  },
  {
   "cell_type": "markdown",
   "metadata": {
    "cell_id": "00030-f8a82062-f601-4a3b-93c0-c51211ec657a",
    "deepnote_cell_height": 154,
    "deepnote_cell_type": "markdown"
   },
   "source": [
    "Look at the difference in the resolution - with Landsat and MODIS, each pixel could broadly identify the land type, but NAIP imagery has very high resolution - you can see individual parked cars, the outline of small trees, building envelopes, etc. Start asking yourself how the spatial resolutions of different platforms could help you answer unique questions.\n",
    "\n",
    "Check the scale of NAIP by getting the first image from the mosaic (images within the mosaic might have different projections) and getting its scale (meters)."
   ]
  },
  {
   "cell_type": "markdown",
   "metadata": {
    "cell_id": "00036-168bb582-8a28-40e3-9b17-5f073022ee9d",
    "deepnote_cell_height": 320,
    "deepnote_cell_type": "markdown"
   },
   "source": [
    "## Temporal Resolution\n",
    "\n",
    "Temporal resolution refers to the *revisit time*, or how often the same satellite platform covers the same place on earth. Historically, satellites have been large, solitary objects that had to make tradeoffs between spatial and temporal resolution - MODIS measures wide swathes of land with each sweep, and has relatively high temporal resolution. Landsat has improved spatial resolution but a revisit rate of 16 days, and NAIP is aggregated either annually or bi-annually. Over the past decade, satellite technology has improved and there is more diversity in mission sets. Cube satellites are small, shoe-box sized satellites that can provide both high-resolution imagery and, when mosaiced together, provide high temporal resolution as well. The tradeoff is that these satellites do not have the same array of sophisticated sensors that larger satellites are equipped with. Other satellites, such as those run by the intelligence community and private satellite companies, are designed for rapid revisit times of certain cities or political areas while not scanning the rest of the world. \n",
    "\n",
    "Temporal resolution is important to understand and consider for your use case - there are tradeoffs to be made either way.\n",
    "\n",
    "Resolution of a few popular platforms:\n",
    "\n",
    "1. Landsat:    16 days\n",
    "2. MODIS:      Several satellites, temporal resolution varies by product (4 days to annual products)\n",
    "3. Sentinel:   5 days at equator\n",
    "4. NAIP:       Annual\n",
    "5. Planet:     Daily"
   ]
  },
  {
   "cell_type": "markdown",
   "metadata": {
    "cell_id": "00033-f14b658d-0e7f-4722-8ffb-6a1c3f1af7b1",
    "deepnote_cell_height": 374,
    "deepnote_cell_type": "markdown"
   },
   "source": [
    "## Spectral Resolution\n",
    "\n",
    "Spectral resolution refers to the number and width of spectral bands in which the sensor takes measurements. You can think of the width of spectral bands as the wavelength interval on the electromagnetic spectrum for each band. A sensor that measures radiance in multiple bands (e.g., collects a value for red, green, blue and near infrared) is called a *multispectral* sensor (generally 3-10 bands), while a sensor with many bands (possibly hundreds) is called a *hyperspectral* sensor (these are not hard and fast definitions). For example, compare the [multi-spectral OLI](http://landsat.gsfc.nasa.gov/?p=5779) aboard Landsat 8 to [Hyperion](https://eo1.usgs.gov/sensors/hyperioncoverage), a hyperspectral sensor that collects 220 unique spectral channels aboard the EO-1 satellite.\n",
    "\n",
    "You will have to read through the documentation for each image collection to understand the spectral response of the bands. "
   ]
  },
  {
   "cell_type": "markdown",
   "metadata": {
    "cell_id": "00035-172a6cc5-4785-4368-b45b-b31f7ffb76bd",
    "deepnote_cell_height": 354,
    "deepnote_cell_type": "markdown"
   },
   "source": [
    "![Specctral Ranges per Band](https://github.com/ghidora77/03_GEE_Labs_DSPG/blob/main/im/im_01_10.png?raw=true)\n",
    "\n",
    "**Important note**: not all bands contain radiometric data. Some are quality control data, while others include information about the zenith or cloud coverage. You can use these other bands to either mask out low-quality pixels or conduct additional calculations. It is a good idea to read through the documentation of each dataset you will be working with to get a good understanding of the band structure."
   ]
  },
  {
   "cell_type": "markdown",
   "metadata": {
    "cell_id": "00045-4443f995-e283-4123-8e32-db97bbe1d41a",
    "deepnote_cell_height": 464,
    "deepnote_cell_type": "markdown"
   },
   "source": [
    "## Radiometric Resolution\n",
    "\n",
    "Radiometric resolution refers to the value, or 'digital number' that the sensor records: _coarse_ radiometric resolution would record a scene with only a narrow range of values, whereas _fine_ radiometric resolution would record the same scene using a wide range of values. The _precision_ of the sensing, or the level of _quantization_ is another way to refer to radiometric resolution. 8 bit values (0-255) is the standard in many image processing tools. \n",
    "\n",
    "![Radiometric Resolution](https://github.com/ghidora77/03_GEE_Labs_DSPG/blob/main/im/im_01_12.jpeg?raw=true)\n",
    "\n",
    "Radiometric resolution is determined from the minimum radiance to which the detector is sensitive (L<sub>min</sub>), the maximum radiance at which the sensor saturates (L<sub>max</sub>), and the number of bits used to store the DNs (Q): \n",
    "\n",
    "\n",
    "$$  \\text{Radiometric resolution} = \\frac{(L_{max} - L_{min})}{2^Q} $$\n",
    "\n",
    "It might be possible to dig around in the metadata to find values for L<sub>min</sub> and L<sub>max</sub>, but computing radiometric resolution is generally not necessary unless you're studying phenomena that are distinguished by very subtle changes in radiance. One thing to keep in mind is that while sensors have developed and become more sensitive / accurate, capable of recording collecting data in upwards of 16 bits, that may not necessarily be beneficial for your work. Computation and storage costs grow, and normalizing the data to 8-bit values to work with tools such as OpenCV defeats the purpose of this sensitive colllection rate. There are use cases where high bit rate collection makes sense (e.g., looking for a very narrow range in a custom spectral range to identify mineral deposits), but ensure that you understand where and why higher radiometric resolution is necessary. "
   ]
  },
  {
   "cell_type": "markdown",
   "metadata": {
    "cell_id": "00046-4ef74910-0c19-4ace-8eac-2415116db674",
    "deepnote_cell_height": 265,
    "deepnote_cell_type": "markdown"
   },
   "source": [
    "### Digital Image Visualization and Stretching\n",
    "\n",
    "You've learned about how an image stores pixel data in each band as digital numbers (DNs) and how the pixels are organized spatially. When you add an image to the map, Earth Engine handles the spatial display for you by recognizing the projection and putting all the pixels in the right place. However, you must specify how to stretch the DNs to fit the standard 8-bit display image  that GEE uses ( `min` and `max` parameters). Specifying `min` and `max` applies (where DN' is the displayed value):\n",
    "\n",
    "   $$ DN' =   \\frac{ 255 (DN - min)}{(max - min)} $$\n",
    "\n",
    "For instance, if you are working with NAIP imagery, you can set the min radiometric resolution to 0 and the max to 255 to model 8-bit radiometric resolution. "
   ]
  },
  {
   "cell_type": "markdown",
   "metadata": {
    "cell_id": "00048-62b02731-a8b6-4973-a963-5aea7686e734",
    "deepnote_cell_height": 96,
    "deepnote_cell_type": "markdown"
   },
   "source": [
    "By contrast, the Planet MultiSpectral SkySat imagery uses 16 bit collection, so you have to adjust the min and max values.  If your image is not displaying correctly (such as a black screen) check the documentation for your data and adjust your min and max values. "
   ]
  },
  {
   "cell_type": "code",
   "execution_count": null,
   "metadata": {},
   "outputs": [],
   "source": [
    "lat = 41.66; lon = -70.9; \n",
    "zoom = 14\n",
    "image_collection_name = 'SKYSAT/GEN-A/PUBLIC/ORTHO/MULTISPECTRAL'\n",
    "date_start = '2019-01-01'\n",
    "date_end = '2019-12-31'\n",
    "name = 'NAIP'\n",
    "point = ee.Geometry.Point([lon, lat])\n",
    "\n",
    "image = (\n",
    "    ee.ImageCollection(image_collection_name)\n",
    "         .median()\n",
    ")\n",
    "\n",
    "bands = ['N', 'G', 'B']\n",
    "\n",
    "vizParams = {\n",
    "    'bands': bands, \n",
    "    'min': 200, # Change to 200\n",
    "    'max': 6000 # 6000\n",
    "}\n",
    "\n",
    "map6 = build_map(lat, lon, zoom, vizParams, image, name)\n",
    "map6"
   ]
  },
  {
   "cell_type": "markdown",
   "metadata": {},
   "source": [
    "### Additional Exercises/Questions\n",
    "\n",
    "Now that we have some familiarity with higher quality images, lets look at a few from the (broken) Landsat 7 satellite. Using your downloading skills, now select an image that contains the Blacksburg area with minimal cloud cover from Landsat 7 (for now, using the Collection 1 Tier 1 calibrated top-of-atmosphere (TOA) reflectance data product). Look at the image.\n",
    "\n",
    "1. What is the obvious (hint: post-2003) problem with the Landsat 7 image? What is the nature of that problem and what have some researchers done to try to correct it? (please research online in addition to using what you have learned in class/from the book)\n",
    "\n",
    "2. Name three major changes you can view in the Blacksburg Area in the last decade using any of the above imagery (and state the source).\n",
    "\n",
    "Conduct a search to compare the technical characteristics of the following sensors:\n",
    "\n",
    "* MODIS (NASA) versus Sentinel (ESA)\n",
    "* AVHRR (NASA) versus IRS-P6 (or choose another Indian Remote Sensing satellite)\n",
    "\n",
    "1. Based on the characteristics you describe, for which applications is one sensor likely to be more suitable than the other ones?\n",
    "Note: when using the internet to answer this question, be sure to cite your sources and ensure that you are obtaining information from an official, reputable source!\n",
    "\n",
    "1. In your own words, how would you define the four types of image resolution?\n",
    "\n",
    "### Where to submit\n",
    "\n",
    "Submit your responses to these questions on Gradescope by 2.15pm on Wednesday, August 31, 2022.\n",
    "\n",
    "All students who have been attending class have already been enrolled in Gradescope, although if for some reason you need to sign up again, the access code for our course is ZZWEVP."
   ]
  },
  {
   "cell_type": "markdown",
   "metadata": {},
   "source": []
  }
 ],
 "metadata": {
  "deepnote": {
   "is_reactive": false
  },
  "deepnote_execution_queue": [],
  "deepnote_notebook_id": "c6e435af-126f-4456-a3d2-3b8f07f2167b",
  "interpreter": {
   "hash": "ec9e24bde1833ef0ef93e4cf9cecf27c680e00c5d9cebee87bbc6a68c9a6acfb"
  },
  "kernelspec": {
   "display_name": "Python 3",
   "language": "python",
   "name": "python3"
  },
  "language_info": {
   "codemirror_mode": {
    "name": "ipython",
    "version": 3
   },
   "file_extension": ".py",
   "mimetype": "text/x-python",
   "name": "python",
   "nbconvert_exporter": "python",
   "pygments_lexer": "ipython3",
   "version": "3.9.13"
  }
 },
 "nbformat": 4,
 "nbformat_minor": 4
}
