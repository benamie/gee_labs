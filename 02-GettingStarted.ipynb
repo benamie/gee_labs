{
 "cells": [
  {
   "cell_type": "markdown",
   "id": "9e1774b4",
   "metadata": {
    "cell_id": "e20ac7c053cd43afb418987b94e6eb94",
    "deepnote_cell_height": 726,
    "deepnote_cell_type": "markdown",
    "tags": []
   },
   "source": [
    "# Getting Set Up\n",
    "\n",
    "## Setting up an Account\n",
    "\n",
    "Whether you use the JavaScript or Python API, you will have to sign-up for a Google Earth Engine account [here](https://signup.earthengine.google.com). Registration is free and straightforward, but it takes approximately 24 hours to be approved to use the code editor. \n",
    "\n",
    " * Note: use a personal email address instead of your .edu account, as the .edu settings will not let you access a project. This is a frequently-changing process and the guidelines will likely change. \n",
    "\n",
    "## Getting Started\n",
    "\n",
    "Once the account is approved, you can access Google Earth Engine. \n",
    "\n",
    "#### JavaScript\n",
    "\n",
    "With JavaScript, you can get started immediately - as long as you are logged into Google with the account you created your account with, you can access the [code editor](https://code.earthengine.google.com) immediately and start running scripts.\n",
    "\n",
    "#### Python\n",
    "\n",
    "Python takes a little more effort to set up - you have to:\n",
    "\n",
    "1. Install the Earth Engine library (one-time per environment)\n",
    "2. Authenticate your Earth Engine Account (one-time per environment)\n",
    "3. Initiate the API (Every time you run a script)\n",
    "\n",
    "In addition, we will be using the [`geemap`](https://geemap.org) package for visualization in conjunction with Earth Engine, install instructions are also included.\n",
    "\n",
    "####Python Package Installation - Colab\n",
    "\n",
    "Google Colab already has the Earth Engine library installed. You will have to install libraries that are not natively supported for the scripts you run each time. In the example below, we are using `pip` (a package and environment manager, similar to Anaconda) to ensure that your libraries are installed correctly. With Colab you will have to complete this step each time you start working with a notebook - ensure that it's in a code chunk at the top of your notebook.\n",
    "\n",
    "Over the long-term, it would benefit you to learn how to set up your local environment, as you have control over your work. There are some resources in the 'Local Environment' section of this course that may help get you started.  \n",
    "\n",
    "**No need to run any of these scripts**"
   ]
  },
  {
   "cell_type": "code",
   "execution_count": 1,
   "id": "a021760d",
   "metadata": {
    "cell_id": "b2e252ed4a4b4cc6a97d4466f9119b1a",
    "deepnote_cell_height": 755,
    "deepnote_cell_type": "code",
    "deepnote_to_be_reexecuted": false,
    "execution_millis": 46505,
    "execution_start": 1653692261402,
    "source_hash": "623fe282",
    "tags": []
   },
   "outputs": [],
   "source": [
    "# Install using `pip` - Use with Google Colab\n",
    "!pip install earthengine-api --upgrade\n",
    "!pip install geemap"
   ]
  },
  {
   "cell_type": "markdown",
   "id": "c3a13128",
   "metadata": {
    "cell_id": "1231868f54754518aacde0e9e98c8a4e",
    "deepnote_cell_height": 132,
    "deepnote_cell_type": "markdown",
    "tags": []
   },
   "source": [
    "#### Authenticate Earth Engine\n",
    "\n",
    "Once the Earth Engine and `geemap` libraries are installed, you will need to authenticate for your environment. In Colab, you have to go through this process at least every 12 hours. In the code chunk below, we import the GEE library and then authenticate - follow the instructions (you will be redirected to another page where you will receive an token, which you then enter into the prompt) and make sure you are signed into Google with the account associated with GEE. "
   ]
  },
  {
   "cell_type": "code",
   "execution_count": 3,
   "id": "85d10a62",
   "metadata": {
    "cell_id": "11d084e386cc4ad59759513a23eca5ed",
    "deepnote_cell_height": 99,
    "deepnote_cell_type": "code",
    "deepnote_output_heights": [
     190
    ],
    "deepnote_to_be_reexecuted": false,
    "execution_millis": 63418,
    "execution_start": 1654101605963,
    "source_hash": "3f44eac8",
    "tags": []
   },
   "outputs": [],
   "source": [
    "import ee\n",
    "ee.Authenticate()"
   ]
  },
  {
   "cell_type": "markdown",
   "id": "cc96536b",
   "metadata": {
    "cell_id": "ad5580a18b104c649b2996307fe866cf",
    "deepnote_cell_height": 110,
    "deepnote_cell_type": "markdown",
    "tags": []
   },
   "source": [
    "Another benefit of working with a local environment is that this process only happens once - when you authenticate, it stores your access token. \n",
    "\n",
    "#### Initiate Earth Engine\n",
    "\n",
    "Once it is installed, you will have to initiate a session with the API every time you run a script (both in Colab or locally). In the import section of your code, include the following to start using Earth Engine."
   ]
  },
  {
   "cell_type": "code",
   "execution_count": 4,
   "id": "d79a6fe6",
   "metadata": {
    "cell_id": "be6cb4c3a6e84195853f458b1afe79f4",
    "deepnote_cell_height": 117,
    "deepnote_cell_type": "code",
    "deepnote_to_be_reexecuted": false,
    "execution_millis": 5781,
    "execution_start": 1654101586415,
    "source_hash": "5e4bb9d1",
    "tags": []
   },
   "outputs": [],
   "source": [
    "# Initialize the Earth Engine module.\n",
    "import ee, geemap\n",
    "ee.Initialize()"
   ]
  }
 ],
 "metadata": {
  "deepnote": {},
  "deepnote_execution_queue": [],
  "deepnote_notebook_id": "bb2a7a95-f616-4bb7-abcf-445fab159d70",
  "interpreter": {
   "hash": "aa58bdc36bdf9e14843869e4ec1a78ace5f1405f58d2b9ff1d28f6db8d046567"
  },
  "kernelspec": {
   "display_name": "Python 3",
   "language": "python",
   "name": "python3"
  },
  "language_info": {
   "codemirror_mode": {
    "name": "ipython",
    "version": 3
   },
   "file_extension": ".py",
   "mimetype": "text/x-python",
   "name": "python",
   "nbconvert_exporter": "python",
   "pygments_lexer": "ipython3",
   "version": "3.8.8"
  }
 },
 "nbformat": 4,
 "nbformat_minor": 5
}
